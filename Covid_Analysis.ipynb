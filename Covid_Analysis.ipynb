{
 "cells": [
  {
   "cell_type": "code",
   "execution_count": 1,
   "outputs": [],
   "source": [
    "import pandas as pd\n",
    "stateDictionary = {\n",
    "    \"AL\": \"Alabama\",\n",
    "    \"AK\": \"Alaska\",\n",
    "    \"AZ\": \"Arizona\",\n",
    "    \"AR\": \"Arkansas\",\n",
    "    \"CA\": \"California\",\n",
    "    \"CO\": \"Colorado\",\n",
    "    \"CT\": \"Connecticut\",\n",
    "    \"DE\": \"Delaware\",\n",
    "    \"FL\": \"Florida\",\n",
    "    \"GA\": \"Georgia\",\n",
    "    \"HI\": \"Hawaii\",\n",
    "    \"ID\": \"Idaho\",\n",
    "    \"IL\": \"Illinois\",\n",
    "    \"IN\": \"Indiana\",\n",
    "    \"IA\": \"Iowa\",\n",
    "    \"KS\": \"Kansas\",\n",
    "    \"KY\": \"Kentucky\",\n",
    "    \"LA\": \"Louisiana\",\n",
    "    \"ME\": \"Maine\",\n",
    "    \"MD\": \"Maryland\",\n",
    "    \"MA\": \"Massachusetts\",\n",
    "    \"MI\": \"Michigan\",\n",
    "    \"MN\": \"Minnesota\",\n",
    "    \"MS\": \"Mississippi\",\n",
    "    \"MO\": \"Missouri\",\n",
    "    \"Montana\": \"MT\",\n",
    "    \"NE\": \"Nebraska\",\n",
    "    \"NV\": \"Nevada\",\n",
    "    \"NH\": \"New Hampshire\",\n",
    "    \"NJ\": \"New Jersey\",\n",
    "    \"NM\": \"New Mexico\",\n",
    "    \"NY\": \"New York\",\n",
    "    \"NC\": \"North Carolina\",\n",
    "    \"ND\": \"North Dakota\",\n",
    "    \"OH\": \"Ohio\",\n",
    "    \"OK\": \"Oklahoma\",\n",
    "    \"OR\": \"Oregon\",\n",
    "    \"PA\": \"Pennsylvania\",\n",
    "    \"PR\": \"Puerto Rico\",\n",
    "    \"RI\": \"Rhode Island\",\n",
    "    \"SC\": \"South Carolina\",\n",
    "    \"SD\": \"South Dakota\",\n",
    "    \"TN\": \"Tennessee\",\n",
    "    \"TX\": \"Texas\",\n",
    "    \"UT\": \"Utah\",\n",
    "    \"VT\": \"Vermont\",\n",
    "    \"VA\": \"Virginia\",\n",
    "    \"WA\": \"Washington\",\n",
    "    \"WV\": \"West Virginia\",\n",
    "    \"WI\": \"Wisconsin\",\n",
    "    \"WY\": \"Wyoming\"\n",
    "}"
   ],
   "metadata": {
    "collapsed": false,
    "ExecuteTime": {
     "start_time": "2023-04-01T22:15:41.846594Z",
     "end_time": "2023-04-01T22:15:42.348877Z"
    }
   }
  },
  {
   "cell_type": "markdown",
   "source": [
    "# Covid 19 Analysis\n",
    "The COVID-19 pandemic has had a significant impact on the world, with millions of cases and deaths reported globally. In this analysis, we will use pandas to explore a dataset of COVID-19 cases and deaths in the United States. The dataset includes information such as the date of submission, state, total cases, confirmed cases, probable cases, new cases, total deaths, confirmed deaths, probable deaths, new deaths, and consent for cases and deaths. By analyzing this dataset, we hope to gain insights into the trends and patterns of COVID-19 cases and deaths in the US, as well as identify any factors that may be contributing to the spread of the virus.\n",
    "\n",
    "The Data was provided by Data.gov, which is a government agency devoted to releasing public information to the public.\n",
    "The link to the data set can be found here: [Data Website](https://catalog.data.gov/dataset/united-states-covid-19-cases-and-deaths-by-state-over-time)\n",
    "\n"
   ],
   "metadata": {
    "collapsed": false
   }
  },
  {
   "cell_type": "code",
   "execution_count": 6,
   "outputs": [
    {
     "data": {
      "text/plain": "      submission_date state  tot_cases  conf_cases  prob_cases  new_case  \\\n0          03/11/2021    KS     297229    241035.0     56194.0         0   \n1          12/01/2021    ND     163565    135705.0     27860.0       589   \n2          01/02/2022    AS         11         NaN         NaN         0   \n3          11/22/2021    AL     841461    620483.0    220978.0       703   \n4          05/30/2022    AK     251425         NaN         NaN         0   \n...               ...   ...        ...         ...         ...       ...   \n60055      02/09/2021    TX    2504556         NaN         NaN     13329   \n60056      11/20/2020    FL     913561         NaN         NaN      8217   \n60057      08/17/2020    NM      23500         NaN         NaN        92   \n60058      06/17/2020    MS      24223     24038.0       185.0       521   \n60059      05/07/2022    MA    1779829   1638144.0    141685.0         0   \n\n       pnew_case  tot_death  conf_death  prob_death  new_death  pnew_death  \\\n0            0.0       4851         NaN         NaN          0         0.0   \n1          220.0       1907         NaN         NaN          9         0.0   \n2            0.0          0         NaN         NaN          0         0.0   \n3          357.0      16377     12727.0      3650.0          7         3.0   \n4            0.0       1252         NaN         NaN          0         0.0   \n...          ...        ...         ...         ...        ...         ...   \n60055     2676.0      43306         NaN         NaN        207         0.0   \n60056     1677.0      19014         NaN         NaN         79         5.0   \n60057        0.0        682         NaN         NaN          4         0.0   \n60058        6.0       1191      1172.0        19.0          9         0.0   \n60059        0.0      20334     19198.0      1136.0          0         0.0   \n\n                   created_at consent_cases consent_deaths  \n0      03/12/2021 03:20:13 PM         Agree            NaN  \n1      12/02/2021 02:35:20 PM         Agree      Not agree  \n2      01/03/2022 03:18:16 PM           NaN            NaN  \n3      11/22/2021 12:00:00 AM         Agree          Agree  \n4      05/31/2022 01:20:20 PM           NaN            NaN  \n...                       ...           ...            ...  \n60055  02/11/2021 12:00:00 AM     Not agree      Not agree  \n60056  11/20/2020 12:00:00 AM     Not agree      Not agree  \n60057  08/19/2020 12:00:00 AM           NaN      Not agree  \n60058  06/19/2020 12:00:00 AM         Agree          Agree  \n60059  05/09/2022 01:14:40 PM         Agree          Agree  \n\n[60060 rows x 15 columns]",
      "text/html": "<div>\n<style scoped>\n    .dataframe tbody tr th:only-of-type {\n        vertical-align: middle;\n    }\n\n    .dataframe tbody tr th {\n        vertical-align: top;\n    }\n\n    .dataframe thead th {\n        text-align: right;\n    }\n</style>\n<table border=\"1\" class=\"dataframe\">\n  <thead>\n    <tr style=\"text-align: right;\">\n      <th></th>\n      <th>submission_date</th>\n      <th>state</th>\n      <th>tot_cases</th>\n      <th>conf_cases</th>\n      <th>prob_cases</th>\n      <th>new_case</th>\n      <th>pnew_case</th>\n      <th>tot_death</th>\n      <th>conf_death</th>\n      <th>prob_death</th>\n      <th>new_death</th>\n      <th>pnew_death</th>\n      <th>created_at</th>\n      <th>consent_cases</th>\n      <th>consent_deaths</th>\n    </tr>\n  </thead>\n  <tbody>\n    <tr>\n      <th>0</th>\n      <td>03/11/2021</td>\n      <td>KS</td>\n      <td>297229</td>\n      <td>241035.0</td>\n      <td>56194.0</td>\n      <td>0</td>\n      <td>0.0</td>\n      <td>4851</td>\n      <td>NaN</td>\n      <td>NaN</td>\n      <td>0</td>\n      <td>0.0</td>\n      <td>03/12/2021 03:20:13 PM</td>\n      <td>Agree</td>\n      <td>NaN</td>\n    </tr>\n    <tr>\n      <th>1</th>\n      <td>12/01/2021</td>\n      <td>ND</td>\n      <td>163565</td>\n      <td>135705.0</td>\n      <td>27860.0</td>\n      <td>589</td>\n      <td>220.0</td>\n      <td>1907</td>\n      <td>NaN</td>\n      <td>NaN</td>\n      <td>9</td>\n      <td>0.0</td>\n      <td>12/02/2021 02:35:20 PM</td>\n      <td>Agree</td>\n      <td>Not agree</td>\n    </tr>\n    <tr>\n      <th>2</th>\n      <td>01/02/2022</td>\n      <td>AS</td>\n      <td>11</td>\n      <td>NaN</td>\n      <td>NaN</td>\n      <td>0</td>\n      <td>0.0</td>\n      <td>0</td>\n      <td>NaN</td>\n      <td>NaN</td>\n      <td>0</td>\n      <td>0.0</td>\n      <td>01/03/2022 03:18:16 PM</td>\n      <td>NaN</td>\n      <td>NaN</td>\n    </tr>\n    <tr>\n      <th>3</th>\n      <td>11/22/2021</td>\n      <td>AL</td>\n      <td>841461</td>\n      <td>620483.0</td>\n      <td>220978.0</td>\n      <td>703</td>\n      <td>357.0</td>\n      <td>16377</td>\n      <td>12727.0</td>\n      <td>3650.0</td>\n      <td>7</td>\n      <td>3.0</td>\n      <td>11/22/2021 12:00:00 AM</td>\n      <td>Agree</td>\n      <td>Agree</td>\n    </tr>\n    <tr>\n      <th>4</th>\n      <td>05/30/2022</td>\n      <td>AK</td>\n      <td>251425</td>\n      <td>NaN</td>\n      <td>NaN</td>\n      <td>0</td>\n      <td>0.0</td>\n      <td>1252</td>\n      <td>NaN</td>\n      <td>NaN</td>\n      <td>0</td>\n      <td>0.0</td>\n      <td>05/31/2022 01:20:20 PM</td>\n      <td>NaN</td>\n      <td>NaN</td>\n    </tr>\n    <tr>\n      <th>...</th>\n      <td>...</td>\n      <td>...</td>\n      <td>...</td>\n      <td>...</td>\n      <td>...</td>\n      <td>...</td>\n      <td>...</td>\n      <td>...</td>\n      <td>...</td>\n      <td>...</td>\n      <td>...</td>\n      <td>...</td>\n      <td>...</td>\n      <td>...</td>\n      <td>...</td>\n    </tr>\n    <tr>\n      <th>60055</th>\n      <td>02/09/2021</td>\n      <td>TX</td>\n      <td>2504556</td>\n      <td>NaN</td>\n      <td>NaN</td>\n      <td>13329</td>\n      <td>2676.0</td>\n      <td>43306</td>\n      <td>NaN</td>\n      <td>NaN</td>\n      <td>207</td>\n      <td>0.0</td>\n      <td>02/11/2021 12:00:00 AM</td>\n      <td>Not agree</td>\n      <td>Not agree</td>\n    </tr>\n    <tr>\n      <th>60056</th>\n      <td>11/20/2020</td>\n      <td>FL</td>\n      <td>913561</td>\n      <td>NaN</td>\n      <td>NaN</td>\n      <td>8217</td>\n      <td>1677.0</td>\n      <td>19014</td>\n      <td>NaN</td>\n      <td>NaN</td>\n      <td>79</td>\n      <td>5.0</td>\n      <td>11/20/2020 12:00:00 AM</td>\n      <td>Not agree</td>\n      <td>Not agree</td>\n    </tr>\n    <tr>\n      <th>60057</th>\n      <td>08/17/2020</td>\n      <td>NM</td>\n      <td>23500</td>\n      <td>NaN</td>\n      <td>NaN</td>\n      <td>92</td>\n      <td>0.0</td>\n      <td>682</td>\n      <td>NaN</td>\n      <td>NaN</td>\n      <td>4</td>\n      <td>0.0</td>\n      <td>08/19/2020 12:00:00 AM</td>\n      <td>NaN</td>\n      <td>Not agree</td>\n    </tr>\n    <tr>\n      <th>60058</th>\n      <td>06/17/2020</td>\n      <td>MS</td>\n      <td>24223</td>\n      <td>24038.0</td>\n      <td>185.0</td>\n      <td>521</td>\n      <td>6.0</td>\n      <td>1191</td>\n      <td>1172.0</td>\n      <td>19.0</td>\n      <td>9</td>\n      <td>0.0</td>\n      <td>06/19/2020 12:00:00 AM</td>\n      <td>Agree</td>\n      <td>Agree</td>\n    </tr>\n    <tr>\n      <th>60059</th>\n      <td>05/07/2022</td>\n      <td>MA</td>\n      <td>1779829</td>\n      <td>1638144.0</td>\n      <td>141685.0</td>\n      <td>0</td>\n      <td>0.0</td>\n      <td>20334</td>\n      <td>19198.0</td>\n      <td>1136.0</td>\n      <td>0</td>\n      <td>0.0</td>\n      <td>05/09/2022 01:14:40 PM</td>\n      <td>Agree</td>\n      <td>Agree</td>\n    </tr>\n  </tbody>\n</table>\n<p>60060 rows × 15 columns</p>\n</div>"
     },
     "execution_count": 6,
     "metadata": {},
     "output_type": "execute_result"
    }
   ],
   "source": [
    "covid_df = pd.read_csv('USACovid.csv')\n",
    "covid_df"
   ],
   "metadata": {
    "collapsed": false,
    "ExecuteTime": {
     "start_time": "2023-04-01T22:15:54.062825Z",
     "end_time": "2023-04-01T22:15:54.216117Z"
    }
   }
  },
  {
   "cell_type": "markdown",
   "source": [
    "# Data Cleaning\n",
    "In order to ensure the data provided is accurate, all NaN occurences as been replaced with 0.\n",
    "The replacement of NaN with zero will hurt the data representation, so for the further calculations, if the column is zero, it will be omitted from the evaluation.\n",
    "\n",
    "# Visuals\n",
    "In order to represent the data in a more friendly manner, the tables will remain presorted in ascending order"
   ],
   "metadata": {
    "collapsed": false
   }
  },
  {
   "cell_type": "code",
   "execution_count": 7,
   "outputs": [
    {
     "name": "stderr",
     "output_type": "stream",
     "text": [
      "/var/folders/xx/__srdgq94h95kfgg71317h540000gn/T/ipykernel_12587/2722290958.py:3: FutureWarning: In a future version of pandas all arguments of Series.sort_values will be keyword-only.\n",
      "  covid_df = covid_df.sort_values('submission_date')\n"
     ]
    },
    {
     "ename": "ValueError",
     "evalue": "No axis named submission_date for object type Series",
     "output_type": "error",
     "traceback": [
      "\u001B[0;31m---------------------------------------------------------------------------\u001B[0m",
      "\u001B[0;31mKeyError\u001B[0m                                  Traceback (most recent call last)",
      "File \u001B[0;32m/Library/Python/3.9/site-packages/pandas/core/generic.py:554\u001B[0m, in \u001B[0;36mNDFrame._get_axis_number\u001B[0;34m(cls, axis)\u001B[0m\n\u001B[1;32m    553\u001B[0m \u001B[38;5;28;01mtry\u001B[39;00m:\n\u001B[0;32m--> 554\u001B[0m     \u001B[38;5;28;01mreturn\u001B[39;00m \u001B[38;5;28;43mcls\u001B[39;49m\u001B[38;5;241;43m.\u001B[39;49m\u001B[43m_AXIS_TO_AXIS_NUMBER\u001B[49m\u001B[43m[\u001B[49m\u001B[43maxis\u001B[49m\u001B[43m]\u001B[49m\n\u001B[1;32m    555\u001B[0m \u001B[38;5;28;01mexcept\u001B[39;00m \u001B[38;5;167;01mKeyError\u001B[39;00m:\n",
      "\u001B[0;31mKeyError\u001B[0m: 'submission_date'",
      "\nDuring handling of the above exception, another exception occurred:\n",
      "\u001B[0;31mValueError\u001B[0m                                Traceback (most recent call last)",
      "Cell \u001B[0;32mIn[7], line 3\u001B[0m\n\u001B[1;32m      1\u001B[0m covid_df \u001B[38;5;241m=\u001B[39m covid_df\u001B[38;5;241m.\u001B[39mfillna(\u001B[38;5;241m0\u001B[39m)\n\u001B[1;32m      2\u001B[0m covid_df \u001B[38;5;241m=\u001B[39m covid_df[\u001B[38;5;124m'\u001B[39m\u001B[38;5;124mstate\u001B[39m\u001B[38;5;124m'\u001B[39m]\u001B[38;5;241m.\u001B[39mmap(stateDictionary)\n\u001B[0;32m----> 3\u001B[0m covid_df \u001B[38;5;241m=\u001B[39m \u001B[43mcovid_df\u001B[49m\u001B[38;5;241;43m.\u001B[39;49m\u001B[43msort_values\u001B[49m\u001B[43m(\u001B[49m\u001B[38;5;124;43m'\u001B[39;49m\u001B[38;5;124;43msubmission_date\u001B[39;49m\u001B[38;5;124;43m'\u001B[39;49m\u001B[43m)\u001B[49m\n\u001B[1;32m      4\u001B[0m covid_df\n",
      "File \u001B[0;32m/Library/Python/3.9/site-packages/pandas/util/_decorators.py:331\u001B[0m, in \u001B[0;36mdeprecate_nonkeyword_arguments.<locals>.decorate.<locals>.wrapper\u001B[0;34m(*args, **kwargs)\u001B[0m\n\u001B[1;32m    325\u001B[0m \u001B[38;5;28;01mif\u001B[39;00m \u001B[38;5;28mlen\u001B[39m(args) \u001B[38;5;241m>\u001B[39m num_allow_args:\n\u001B[1;32m    326\u001B[0m     warnings\u001B[38;5;241m.\u001B[39mwarn(\n\u001B[1;32m    327\u001B[0m         msg\u001B[38;5;241m.\u001B[39mformat(arguments\u001B[38;5;241m=\u001B[39m_format_argument_list(allow_args)),\n\u001B[1;32m    328\u001B[0m         \u001B[38;5;167;01mFutureWarning\u001B[39;00m,\n\u001B[1;32m    329\u001B[0m         stacklevel\u001B[38;5;241m=\u001B[39mfind_stack_level(),\n\u001B[1;32m    330\u001B[0m     )\n\u001B[0;32m--> 331\u001B[0m \u001B[38;5;28;01mreturn\u001B[39;00m \u001B[43mfunc\u001B[49m\u001B[43m(\u001B[49m\u001B[38;5;241;43m*\u001B[39;49m\u001B[43margs\u001B[49m\u001B[43m,\u001B[49m\u001B[43m \u001B[49m\u001B[38;5;241;43m*\u001B[39;49m\u001B[38;5;241;43m*\u001B[39;49m\u001B[43mkwargs\u001B[49m\u001B[43m)\u001B[49m\n",
      "File \u001B[0;32m/Library/Python/3.9/site-packages/pandas/core/series.py:3744\u001B[0m, in \u001B[0;36mSeries.sort_values\u001B[0;34m(self, axis, ascending, inplace, kind, na_position, ignore_index, key)\u001B[0m\n\u001B[1;32m   3742\u001B[0m inplace \u001B[38;5;241m=\u001B[39m validate_bool_kwarg(inplace, \u001B[38;5;124m\"\u001B[39m\u001B[38;5;124minplace\u001B[39m\u001B[38;5;124m\"\u001B[39m)\n\u001B[1;32m   3743\u001B[0m \u001B[38;5;66;03m# Validate the axis parameter\u001B[39;00m\n\u001B[0;32m-> 3744\u001B[0m \u001B[38;5;28;43mself\u001B[39;49m\u001B[38;5;241;43m.\u001B[39;49m\u001B[43m_get_axis_number\u001B[49m\u001B[43m(\u001B[49m\u001B[43maxis\u001B[49m\u001B[43m)\u001B[49m\n\u001B[1;32m   3746\u001B[0m \u001B[38;5;66;03m# GH 5856/5853\u001B[39;00m\n\u001B[1;32m   3747\u001B[0m \u001B[38;5;28;01mif\u001B[39;00m inplace \u001B[38;5;129;01mand\u001B[39;00m \u001B[38;5;28mself\u001B[39m\u001B[38;5;241m.\u001B[39m_is_cached:\n",
      "File \u001B[0;32m/Library/Python/3.9/site-packages/pandas/core/generic.py:556\u001B[0m, in \u001B[0;36mNDFrame._get_axis_number\u001B[0;34m(cls, axis)\u001B[0m\n\u001B[1;32m    554\u001B[0m     \u001B[38;5;28;01mreturn\u001B[39;00m \u001B[38;5;28mcls\u001B[39m\u001B[38;5;241m.\u001B[39m_AXIS_TO_AXIS_NUMBER[axis]\n\u001B[1;32m    555\u001B[0m \u001B[38;5;28;01mexcept\u001B[39;00m \u001B[38;5;167;01mKeyError\u001B[39;00m:\n\u001B[0;32m--> 556\u001B[0m     \u001B[38;5;28;01mraise\u001B[39;00m \u001B[38;5;167;01mValueError\u001B[39;00m(\u001B[38;5;124mf\u001B[39m\u001B[38;5;124m\"\u001B[39m\u001B[38;5;124mNo axis named \u001B[39m\u001B[38;5;132;01m{\u001B[39;00maxis\u001B[38;5;132;01m}\u001B[39;00m\u001B[38;5;124m for object type \u001B[39m\u001B[38;5;132;01m{\u001B[39;00m\u001B[38;5;28mcls\u001B[39m\u001B[38;5;241m.\u001B[39m\u001B[38;5;18m__name__\u001B[39m\u001B[38;5;132;01m}\u001B[39;00m\u001B[38;5;124m\"\u001B[39m)\n",
      "\u001B[0;31mValueError\u001B[0m: No axis named submission_date for object type Series"
     ]
    }
   ],
   "source": [
    "covid_df = covid_df.fillna(0)\n",
    "covid_df = covid_df['state'].map(stateDictionary)\n",
    "covid_df = covid_df.sort_values('submission_date')\n",
    "covid_df"
   ],
   "metadata": {
    "collapsed": false,
    "ExecuteTime": {
     "start_time": "2023-04-01T22:10:52.805348Z",
     "end_time": "2023-04-01T22:10:52.874126Z"
    }
   }
  },
  {
   "cell_type": "code",
   "execution_count": null,
   "outputs": [],
   "source": [],
   "metadata": {
    "collapsed": false,
    "ExecuteTime": {
     "start_time": "2023-04-01T22:12:05.081134Z",
     "end_time": "2023-04-01T22:12:05.107977Z"
    }
   }
  }
 ],
 "metadata": {
  "kernelspec": {
   "display_name": "Python 3",
   "language": "python",
   "name": "python3"
  },
  "language_info": {
   "codemirror_mode": {
    "name": "ipython",
    "version": 2
   },
   "file_extension": ".py",
   "mimetype": "text/x-python",
   "name": "python",
   "nbconvert_exporter": "python",
   "pygments_lexer": "ipython2",
   "version": "2.7.6"
  }
 },
 "nbformat": 4,
 "nbformat_minor": 0
}

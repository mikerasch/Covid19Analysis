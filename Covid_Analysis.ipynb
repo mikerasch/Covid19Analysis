{
 "cells": [
  {
   "cell_type": "code",
   "execution_count": 1,
   "metadata": {
    "ExecuteTime": {
     "end_time": "2023-04-01T22:15:42.348877Z",
     "start_time": "2023-04-01T22:15:41.846594Z"
    },
    "collapsed": false
   },
   "outputs": [],
   "source": [
    "import pandas as pd\n",
    "import numpy as np\n",
    "import matplotlib.pyplot as plt\n",
    "import seaborn as sns\n",
    "import plotly.express as px\n",
    "import plotly.offline as pyo\n",
    "from sklearn.linear_model import LinearRegression\n",
    "\n",
    "#CovidActNow Packages\n",
    "import json\n",
    "from pprint import pprint\n",
    "import requests\n",
    "import statsmodels.api as sm\n",
    "\n",
    "API_KEY = '1a0be95a988649d9a632bf27231c22d3' \n",
    "\n",
    "stateDictionary = {\n",
    "    \"AL\": \"Alabama\",\n",
    "    \"AS\": \"American Samoa\",\n",
    "    \"AK\": \"Alaska\",\n",
    "    \"AZ\": \"Arizona\",\n",
    "    \"AR\": \"Arkansas\",\n",
    "    \"CA\": \"California\",\n",
    "    \"CO\": \"Colorado\",\n",
    "    \"CT\": \"Connecticut\",\n",
    "    \"DE\": \"Delaware\",\n",
    "    \"FL\": \"Florida\",\n",
    "    \"GA\": \"Georgia\",\n",
    "    \"HI\": \"Hawaii\",\n",
    "    \"ID\": \"Idaho\",\n",
    "    \"IL\": \"Illinois\",\n",
    "    \"IN\": \"Indiana\",\n",
    "    \"IA\": \"Iowa\",\n",
    "    \"KS\": \"Kansas\",\n",
    "    \"KY\": \"Kentucky\",\n",
    "    \"LA\": \"Louisiana\",\n",
    "    \"ME\": \"Maine\",\n",
    "    \"MD\": \"Maryland\",\n",
    "    \"MA\": \"Massachusetts\",\n",
    "    \"MI\": \"Michigan\",\n",
    "    \"MN\": \"Minnesota\",\n",
    "    \"MS\": \"Mississippi\",\n",
    "    \"MO\": \"Missouri\",\n",
    "    \"MT\": \"Montana\",\n",
    "    \"NE\": \"Nebraska\",\n",
    "    \"NV\": \"Nevada\",\n",
    "    \"NH\": \"New Hampshire\",\n",
    "    \"NJ\": \"New Jersey\",\n",
    "    \"NM\": \"New Mexico\",\n",
    "    \"NY\": \"New York\",\n",
    "    \"NC\": \"North Carolina\",\n",
    "    \"ND\": \"North Dakota\",\n",
    "    \"OH\": \"Ohio\",\n",
    "    \"OK\": \"Oklahoma\",\n",
    "    \"OR\": \"Oregon\",\n",
    "    \"PA\": \"Pennsylvania\",\n",
    "    \"PR\": \"Puerto Rico\",\n",
    "    \"RI\": \"Rhode Island\",\n",
    "    \"SC\": \"South Carolina\",\n",
    "    \"SD\": \"South Dakota\",\n",
    "    \"TN\": \"Tennessee\",\n",
    "    \"TX\": \"Texas\",\n",
    "    \"UT\": \"Utah\",\n",
    "    \"VT\": \"Vermont\",\n",
    "    \"VA\": \"Virginia\",\n",
    "    \"WA\": \"Washington\",\n",
    "    \"WV\": \"West Virginia\",\n",
    "    \"WI\": \"Wisconsin\",\n",
    "    \"WY\": \"Wyoming\",\n",
    "    \"DC\": \"District of Columbia\"\n",
    "}"
   ]
  },
  {
   "cell_type": "markdown",
   "metadata": {
    "collapsed": false
   },
   "source": [
    "# Covid 19 Analysis\n",
    "The COVID-19 pandemic has had a significant impact on the world, with millions of cases and deaths reported globally. In this analysis, we will use pandas to explore a dataset of COVID-19 cases and deaths in the United States. The dataset includes information such as the date of submission, state, total cases, confirmed cases, probable cases, new cases, total deaths, confirmed deaths, probable deaths, new deaths, and consent for cases and deaths. By analyzing this dataset, we hope to gain insights into the trends and patterns of COVID-19 cases and deaths in the US, as well as identify any factors that may be contributing to the spread of the virus.\n",
    "\n",
    "The Data was provided by Data.gov, which is a government agency devoted to releasing public information to the public.\n",
    "The link to the data set can be found here: [Data Website](https://catalog.data.gov/dataset/united-states-covid-19-cases-and-deaths-by-state-over-time)\n",
    "\n"
   ]
  },
  {
   "cell_type": "code",
   "execution_count": 2,
   "metadata": {
    "ExecuteTime": {
     "end_time": "2023-04-01T22:15:54.216117Z",
     "start_time": "2023-04-01T22:15:54.062825Z"
    },
    "collapsed": false
   },
   "outputs": [
    {
     "data": {
      "text/html": [
       "<div>\n",
       "<style scoped>\n",
       "    .dataframe tbody tr th:only-of-type {\n",
       "        vertical-align: middle;\n",
       "    }\n",
       "\n",
       "    .dataframe tbody tr th {\n",
       "        vertical-align: top;\n",
       "    }\n",
       "\n",
       "    .dataframe thead th {\n",
       "        text-align: right;\n",
       "    }\n",
       "</style>\n",
       "<table border=\"1\" class=\"dataframe\">\n",
       "  <thead>\n",
       "    <tr style=\"text-align: right;\">\n",
       "      <th></th>\n",
       "      <th>submission_date</th>\n",
       "      <th>state</th>\n",
       "      <th>tot_cases</th>\n",
       "      <th>conf_cases</th>\n",
       "      <th>prob_cases</th>\n",
       "      <th>new_case</th>\n",
       "      <th>pnew_case</th>\n",
       "      <th>tot_death</th>\n",
       "      <th>conf_death</th>\n",
       "      <th>prob_death</th>\n",
       "      <th>new_death</th>\n",
       "      <th>pnew_death</th>\n",
       "      <th>created_at</th>\n",
       "      <th>consent_cases</th>\n",
       "      <th>consent_deaths</th>\n",
       "    </tr>\n",
       "  </thead>\n",
       "  <tbody>\n",
       "    <tr>\n",
       "      <th>0</th>\n",
       "      <td>03/11/2021</td>\n",
       "      <td>KS</td>\n",
       "      <td>297229</td>\n",
       "      <td>241035.0</td>\n",
       "      <td>56194.0</td>\n",
       "      <td>0</td>\n",
       "      <td>0.0</td>\n",
       "      <td>4851</td>\n",
       "      <td>NaN</td>\n",
       "      <td>NaN</td>\n",
       "      <td>0</td>\n",
       "      <td>0.0</td>\n",
       "      <td>03/12/2021 03:20:13 PM</td>\n",
       "      <td>Agree</td>\n",
       "      <td>NaN</td>\n",
       "    </tr>\n",
       "    <tr>\n",
       "      <th>1</th>\n",
       "      <td>12/01/2021</td>\n",
       "      <td>ND</td>\n",
       "      <td>163565</td>\n",
       "      <td>135705.0</td>\n",
       "      <td>27860.0</td>\n",
       "      <td>589</td>\n",
       "      <td>220.0</td>\n",
       "      <td>1907</td>\n",
       "      <td>NaN</td>\n",
       "      <td>NaN</td>\n",
       "      <td>9</td>\n",
       "      <td>0.0</td>\n",
       "      <td>12/02/2021 02:35:20 PM</td>\n",
       "      <td>Agree</td>\n",
       "      <td>Not agree</td>\n",
       "    </tr>\n",
       "    <tr>\n",
       "      <th>2</th>\n",
       "      <td>01/02/2022</td>\n",
       "      <td>AS</td>\n",
       "      <td>11</td>\n",
       "      <td>NaN</td>\n",
       "      <td>NaN</td>\n",
       "      <td>0</td>\n",
       "      <td>0.0</td>\n",
       "      <td>0</td>\n",
       "      <td>NaN</td>\n",
       "      <td>NaN</td>\n",
       "      <td>0</td>\n",
       "      <td>0.0</td>\n",
       "      <td>01/03/2022 03:18:16 PM</td>\n",
       "      <td>NaN</td>\n",
       "      <td>NaN</td>\n",
       "    </tr>\n",
       "    <tr>\n",
       "      <th>3</th>\n",
       "      <td>11/22/2021</td>\n",
       "      <td>AL</td>\n",
       "      <td>841461</td>\n",
       "      <td>620483.0</td>\n",
       "      <td>220978.0</td>\n",
       "      <td>703</td>\n",
       "      <td>357.0</td>\n",
       "      <td>16377</td>\n",
       "      <td>12727.0</td>\n",
       "      <td>3650.0</td>\n",
       "      <td>7</td>\n",
       "      <td>3.0</td>\n",
       "      <td>11/22/2021 12:00:00 AM</td>\n",
       "      <td>Agree</td>\n",
       "      <td>Agree</td>\n",
       "    </tr>\n",
       "    <tr>\n",
       "      <th>4</th>\n",
       "      <td>05/30/2022</td>\n",
       "      <td>AK</td>\n",
       "      <td>251425</td>\n",
       "      <td>NaN</td>\n",
       "      <td>NaN</td>\n",
       "      <td>0</td>\n",
       "      <td>0.0</td>\n",
       "      <td>1252</td>\n",
       "      <td>NaN</td>\n",
       "      <td>NaN</td>\n",
       "      <td>0</td>\n",
       "      <td>0.0</td>\n",
       "      <td>05/31/2022 01:20:20 PM</td>\n",
       "      <td>NaN</td>\n",
       "      <td>NaN</td>\n",
       "    </tr>\n",
       "    <tr>\n",
       "      <th>...</th>\n",
       "      <td>...</td>\n",
       "      <td>...</td>\n",
       "      <td>...</td>\n",
       "      <td>...</td>\n",
       "      <td>...</td>\n",
       "      <td>...</td>\n",
       "      <td>...</td>\n",
       "      <td>...</td>\n",
       "      <td>...</td>\n",
       "      <td>...</td>\n",
       "      <td>...</td>\n",
       "      <td>...</td>\n",
       "      <td>...</td>\n",
       "      <td>...</td>\n",
       "      <td>...</td>\n",
       "    </tr>\n",
       "    <tr>\n",
       "      <th>60055</th>\n",
       "      <td>02/09/2021</td>\n",
       "      <td>TX</td>\n",
       "      <td>2504556</td>\n",
       "      <td>NaN</td>\n",
       "      <td>NaN</td>\n",
       "      <td>13329</td>\n",
       "      <td>2676.0</td>\n",
       "      <td>43306</td>\n",
       "      <td>NaN</td>\n",
       "      <td>NaN</td>\n",
       "      <td>207</td>\n",
       "      <td>0.0</td>\n",
       "      <td>02/11/2021 12:00:00 AM</td>\n",
       "      <td>Not agree</td>\n",
       "      <td>Not agree</td>\n",
       "    </tr>\n",
       "    <tr>\n",
       "      <th>60056</th>\n",
       "      <td>11/20/2020</td>\n",
       "      <td>FL</td>\n",
       "      <td>913561</td>\n",
       "      <td>NaN</td>\n",
       "      <td>NaN</td>\n",
       "      <td>8217</td>\n",
       "      <td>1677.0</td>\n",
       "      <td>19014</td>\n",
       "      <td>NaN</td>\n",
       "      <td>NaN</td>\n",
       "      <td>79</td>\n",
       "      <td>5.0</td>\n",
       "      <td>11/20/2020 12:00:00 AM</td>\n",
       "      <td>Not agree</td>\n",
       "      <td>Not agree</td>\n",
       "    </tr>\n",
       "    <tr>\n",
       "      <th>60057</th>\n",
       "      <td>08/17/2020</td>\n",
       "      <td>NM</td>\n",
       "      <td>23500</td>\n",
       "      <td>NaN</td>\n",
       "      <td>NaN</td>\n",
       "      <td>92</td>\n",
       "      <td>0.0</td>\n",
       "      <td>682</td>\n",
       "      <td>NaN</td>\n",
       "      <td>NaN</td>\n",
       "      <td>4</td>\n",
       "      <td>0.0</td>\n",
       "      <td>08/19/2020 12:00:00 AM</td>\n",
       "      <td>NaN</td>\n",
       "      <td>Not agree</td>\n",
       "    </tr>\n",
       "    <tr>\n",
       "      <th>60058</th>\n",
       "      <td>06/17/2020</td>\n",
       "      <td>MS</td>\n",
       "      <td>24223</td>\n",
       "      <td>24038.0</td>\n",
       "      <td>185.0</td>\n",
       "      <td>521</td>\n",
       "      <td>6.0</td>\n",
       "      <td>1191</td>\n",
       "      <td>1172.0</td>\n",
       "      <td>19.0</td>\n",
       "      <td>9</td>\n",
       "      <td>0.0</td>\n",
       "      <td>06/19/2020 12:00:00 AM</td>\n",
       "      <td>Agree</td>\n",
       "      <td>Agree</td>\n",
       "    </tr>\n",
       "    <tr>\n",
       "      <th>60059</th>\n",
       "      <td>05/07/2022</td>\n",
       "      <td>MA</td>\n",
       "      <td>1779829</td>\n",
       "      <td>1638144.0</td>\n",
       "      <td>141685.0</td>\n",
       "      <td>0</td>\n",
       "      <td>0.0</td>\n",
       "      <td>20334</td>\n",
       "      <td>19198.0</td>\n",
       "      <td>1136.0</td>\n",
       "      <td>0</td>\n",
       "      <td>0.0</td>\n",
       "      <td>05/09/2022 01:14:40 PM</td>\n",
       "      <td>Agree</td>\n",
       "      <td>Agree</td>\n",
       "    </tr>\n",
       "  </tbody>\n",
       "</table>\n",
       "<p>60060 rows × 15 columns</p>\n",
       "</div>"
      ],
      "text/plain": [
       "      submission_date state  tot_cases  conf_cases  prob_cases  new_case  \\\n",
       "0          03/11/2021    KS     297229    241035.0     56194.0         0   \n",
       "1          12/01/2021    ND     163565    135705.0     27860.0       589   \n",
       "2          01/02/2022    AS         11         NaN         NaN         0   \n",
       "3          11/22/2021    AL     841461    620483.0    220978.0       703   \n",
       "4          05/30/2022    AK     251425         NaN         NaN         0   \n",
       "...               ...   ...        ...         ...         ...       ...   \n",
       "60055      02/09/2021    TX    2504556         NaN         NaN     13329   \n",
       "60056      11/20/2020    FL     913561         NaN         NaN      8217   \n",
       "60057      08/17/2020    NM      23500         NaN         NaN        92   \n",
       "60058      06/17/2020    MS      24223     24038.0       185.0       521   \n",
       "60059      05/07/2022    MA    1779829   1638144.0    141685.0         0   \n",
       "\n",
       "       pnew_case  tot_death  conf_death  prob_death  new_death  pnew_death  \\\n",
       "0            0.0       4851         NaN         NaN          0         0.0   \n",
       "1          220.0       1907         NaN         NaN          9         0.0   \n",
       "2            0.0          0         NaN         NaN          0         0.0   \n",
       "3          357.0      16377     12727.0      3650.0          7         3.0   \n",
       "4            0.0       1252         NaN         NaN          0         0.0   \n",
       "...          ...        ...         ...         ...        ...         ...   \n",
       "60055     2676.0      43306         NaN         NaN        207         0.0   \n",
       "60056     1677.0      19014         NaN         NaN         79         5.0   \n",
       "60057        0.0        682         NaN         NaN          4         0.0   \n",
       "60058        6.0       1191      1172.0        19.0          9         0.0   \n",
       "60059        0.0      20334     19198.0      1136.0          0         0.0   \n",
       "\n",
       "                   created_at consent_cases consent_deaths  \n",
       "0      03/12/2021 03:20:13 PM         Agree            NaN  \n",
       "1      12/02/2021 02:35:20 PM         Agree      Not agree  \n",
       "2      01/03/2022 03:18:16 PM           NaN            NaN  \n",
       "3      11/22/2021 12:00:00 AM         Agree          Agree  \n",
       "4      05/31/2022 01:20:20 PM           NaN            NaN  \n",
       "...                       ...           ...            ...  \n",
       "60055  02/11/2021 12:00:00 AM     Not agree      Not agree  \n",
       "60056  11/20/2020 12:00:00 AM     Not agree      Not agree  \n",
       "60057  08/19/2020 12:00:00 AM           NaN      Not agree  \n",
       "60058  06/19/2020 12:00:00 AM         Agree          Agree  \n",
       "60059  05/09/2022 01:14:40 PM         Agree          Agree  \n",
       "\n",
       "[60060 rows x 15 columns]"
      ]
     },
     "execution_count": 2,
     "metadata": {},
     "output_type": "execute_result"
    }
   ],
   "source": [
    "covid_df = pd.read_csv('USACovid.csv')\n",
    "covid_df"
   ]
  },
  {
   "cell_type": "markdown",
   "metadata": {
    "collapsed": false
   },
   "source": [
    "# Data Cleaning\n",
    "- In order to ensure the data provided is accurate, all NaN occurences as been replaced with 0.\n",
    "- The replacement of NaN with zero will hurt the data representation, so for the further calculations, if the column is zero, it will be omitted from the evaluation.\n",
    "\n",
    "# Visuals\n",
    "- In order to represent the data in a more friendly manner, the tables will remain presorted in ascending order.\n",
    "- The states were previously identified with the state name abbreviation. Ex: WI"
   ]
  },
  {
   "cell_type": "code",
   "execution_count": 3,
   "metadata": {
    "ExecuteTime": {
     "end_time": "2023-04-01T22:10:52.874126Z",
     "start_time": "2023-04-01T22:10:52.805348Z"
    },
    "collapsed": false
   },
   "outputs": [
    {
     "data": {
      "text/html": [
       "<div>\n",
       "<style scoped>\n",
       "    .dataframe tbody tr th:only-of-type {\n",
       "        vertical-align: middle;\n",
       "    }\n",
       "\n",
       "    .dataframe tbody tr th {\n",
       "        vertical-align: top;\n",
       "    }\n",
       "\n",
       "    .dataframe thead th {\n",
       "        text-align: right;\n",
       "    }\n",
       "</style>\n",
       "<table border=\"1\" class=\"dataframe\">\n",
       "  <thead>\n",
       "    <tr style=\"text-align: right;\">\n",
       "      <th></th>\n",
       "      <th>submission_date</th>\n",
       "      <th>state</th>\n",
       "      <th>tot_cases</th>\n",
       "      <th>conf_cases</th>\n",
       "      <th>prob_cases</th>\n",
       "      <th>new_case</th>\n",
       "      <th>pnew_case</th>\n",
       "      <th>tot_death</th>\n",
       "      <th>conf_death</th>\n",
       "      <th>prob_death</th>\n",
       "      <th>new_death</th>\n",
       "      <th>pnew_death</th>\n",
       "      <th>created_at</th>\n",
       "      <th>consent_cases</th>\n",
       "      <th>consent_deaths</th>\n",
       "    </tr>\n",
       "  </thead>\n",
       "  <tbody>\n",
       "    <tr>\n",
       "      <th>50494</th>\n",
       "      <td>2020-01-22</td>\n",
       "      <td>Washington</td>\n",
       "      <td>0</td>\n",
       "      <td>0.0</td>\n",
       "      <td>0.0</td>\n",
       "      <td>0</td>\n",
       "      <td>0.0</td>\n",
       "      <td>0</td>\n",
       "      <td>0.0</td>\n",
       "      <td>0.0</td>\n",
       "      <td>0</td>\n",
       "      <td>0.0</td>\n",
       "      <td>01/22/2020 12:00:00 AM</td>\n",
       "      <td>0</td>\n",
       "      <td>0</td>\n",
       "    </tr>\n",
       "    <tr>\n",
       "      <th>32276</th>\n",
       "      <td>2020-01-22</td>\n",
       "      <td>Wisconsin</td>\n",
       "      <td>0</td>\n",
       "      <td>0.0</td>\n",
       "      <td>0.0</td>\n",
       "      <td>0</td>\n",
       "      <td>0.0</td>\n",
       "      <td>0</td>\n",
       "      <td>0.0</td>\n",
       "      <td>0.0</td>\n",
       "      <td>0</td>\n",
       "      <td>0.0</td>\n",
       "      <td>03/26/2020 04:22:39 PM</td>\n",
       "      <td>Agree</td>\n",
       "      <td>Agree</td>\n",
       "    </tr>\n",
       "    <tr>\n",
       "      <th>51294</th>\n",
       "      <td>2020-01-22</td>\n",
       "      <td>West Virginia</td>\n",
       "      <td>0</td>\n",
       "      <td>0.0</td>\n",
       "      <td>0.0</td>\n",
       "      <td>0</td>\n",
       "      <td>0.0</td>\n",
       "      <td>0</td>\n",
       "      <td>0.0</td>\n",
       "      <td>0.0</td>\n",
       "      <td>0</td>\n",
       "      <td>0.0</td>\n",
       "      <td>03/26/2020 04:22:39 PM</td>\n",
       "      <td>Agree</td>\n",
       "      <td>Not agree</td>\n",
       "    </tr>\n",
       "    <tr>\n",
       "      <th>8824</th>\n",
       "      <td>2020-01-22</td>\n",
       "      <td>Utah</td>\n",
       "      <td>0</td>\n",
       "      <td>0.0</td>\n",
       "      <td>0.0</td>\n",
       "      <td>0</td>\n",
       "      <td>0.0</td>\n",
       "      <td>0</td>\n",
       "      <td>0.0</td>\n",
       "      <td>0.0</td>\n",
       "      <td>0</td>\n",
       "      <td>0.0</td>\n",
       "      <td>03/26/2020 04:22:39 PM</td>\n",
       "      <td>Agree</td>\n",
       "      <td>Agree</td>\n",
       "    </tr>\n",
       "    <tr>\n",
       "      <th>2152</th>\n",
       "      <td>2020-01-22</td>\n",
       "      <td>Georgia</td>\n",
       "      <td>0</td>\n",
       "      <td>0.0</td>\n",
       "      <td>0.0</td>\n",
       "      <td>0</td>\n",
       "      <td>0.0</td>\n",
       "      <td>0</td>\n",
       "      <td>0.0</td>\n",
       "      <td>0.0</td>\n",
       "      <td>0</td>\n",
       "      <td>0.0</td>\n",
       "      <td>03/26/2020 04:22:39 PM</td>\n",
       "      <td>Agree</td>\n",
       "      <td>Agree</td>\n",
       "    </tr>\n",
       "    <tr>\n",
       "      <th>...</th>\n",
       "      <td>...</td>\n",
       "      <td>...</td>\n",
       "      <td>...</td>\n",
       "      <td>...</td>\n",
       "      <td>...</td>\n",
       "      <td>...</td>\n",
       "      <td>...</td>\n",
       "      <td>...</td>\n",
       "      <td>...</td>\n",
       "      <td>...</td>\n",
       "      <td>...</td>\n",
       "      <td>...</td>\n",
       "      <td>...</td>\n",
       "      <td>...</td>\n",
       "      <td>...</td>\n",
       "    </tr>\n",
       "    <tr>\n",
       "      <th>37836</th>\n",
       "      <td>2022-10-18</td>\n",
       "      <td>Nebraska</td>\n",
       "      <td>540345</td>\n",
       "      <td>376152.0</td>\n",
       "      <td>164193.0</td>\n",
       "      <td>956</td>\n",
       "      <td>389.0</td>\n",
       "      <td>4559</td>\n",
       "      <td>3586.0</td>\n",
       "      <td>973.0</td>\n",
       "      <td>7</td>\n",
       "      <td>3.0</td>\n",
       "      <td>10/19/2022 01:15:24 PM</td>\n",
       "      <td>Agree</td>\n",
       "      <td>Agree</td>\n",
       "    </tr>\n",
       "    <tr>\n",
       "      <th>23106</th>\n",
       "      <td>2022-10-18</td>\n",
       "      <td>Maryland</td>\n",
       "      <td>1261834</td>\n",
       "      <td>0.0</td>\n",
       "      <td>0.0</td>\n",
       "      <td>689</td>\n",
       "      <td>0.0</td>\n",
       "      <td>15497</td>\n",
       "      <td>15224.0</td>\n",
       "      <td>273.0</td>\n",
       "      <td>3</td>\n",
       "      <td>0.0</td>\n",
       "      <td>10/19/2022 01:15:24 PM</td>\n",
       "      <td>0</td>\n",
       "      <td>Agree</td>\n",
       "    </tr>\n",
       "    <tr>\n",
       "      <th>25286</th>\n",
       "      <td>2022-10-18</td>\n",
       "      <td>Missouri</td>\n",
       "      <td>1660094</td>\n",
       "      <td>0.0</td>\n",
       "      <td>0.0</td>\n",
       "      <td>0</td>\n",
       "      <td>0.0</td>\n",
       "      <td>21600</td>\n",
       "      <td>0.0</td>\n",
       "      <td>0.0</td>\n",
       "      <td>0</td>\n",
       "      <td>0.0</td>\n",
       "      <td>10/19/2022 01:15:24 PM</td>\n",
       "      <td>Not agree</td>\n",
       "      <td>Not agree</td>\n",
       "    </tr>\n",
       "    <tr>\n",
       "      <th>18065</th>\n",
       "      <td>2022-10-18</td>\n",
       "      <td>VI</td>\n",
       "      <td>23269</td>\n",
       "      <td>0.0</td>\n",
       "      <td>0.0</td>\n",
       "      <td>13</td>\n",
       "      <td>0.0</td>\n",
       "      <td>123</td>\n",
       "      <td>0.0</td>\n",
       "      <td>0.0</td>\n",
       "      <td>0</td>\n",
       "      <td>0.0</td>\n",
       "      <td>10/19/2022 01:15:24 PM</td>\n",
       "      <td>0</td>\n",
       "      <td>0</td>\n",
       "    </tr>\n",
       "    <tr>\n",
       "      <th>24237</th>\n",
       "      <td>2022-10-18</td>\n",
       "      <td>Maine</td>\n",
       "      <td>294927</td>\n",
       "      <td>212017.0</td>\n",
       "      <td>82910.0</td>\n",
       "      <td>512</td>\n",
       "      <td>204.0</td>\n",
       "      <td>2629</td>\n",
       "      <td>2311.0</td>\n",
       "      <td>318.0</td>\n",
       "      <td>2</td>\n",
       "      <td>0.0</td>\n",
       "      <td>10/19/2022 01:15:24 PM</td>\n",
       "      <td>Agree</td>\n",
       "      <td>Agree</td>\n",
       "    </tr>\n",
       "  </tbody>\n",
       "</table>\n",
       "<p>60060 rows × 15 columns</p>\n",
       "</div>"
      ],
      "text/plain": [
       "      submission_date          state  tot_cases  conf_cases  prob_cases  \\\n",
       "50494      2020-01-22     Washington          0         0.0         0.0   \n",
       "32276      2020-01-22      Wisconsin          0         0.0         0.0   \n",
       "51294      2020-01-22  West Virginia          0         0.0         0.0   \n",
       "8824       2020-01-22           Utah          0         0.0         0.0   \n",
       "2152       2020-01-22        Georgia          0         0.0         0.0   \n",
       "...               ...            ...        ...         ...         ...   \n",
       "37836      2022-10-18       Nebraska     540345    376152.0    164193.0   \n",
       "23106      2022-10-18       Maryland    1261834         0.0         0.0   \n",
       "25286      2022-10-18       Missouri    1660094         0.0         0.0   \n",
       "18065      2022-10-18             VI      23269         0.0         0.0   \n",
       "24237      2022-10-18          Maine     294927    212017.0     82910.0   \n",
       "\n",
       "       new_case  pnew_case  tot_death  conf_death  prob_death  new_death  \\\n",
       "50494         0        0.0          0         0.0         0.0          0   \n",
       "32276         0        0.0          0         0.0         0.0          0   \n",
       "51294         0        0.0          0         0.0         0.0          0   \n",
       "8824          0        0.0          0         0.0         0.0          0   \n",
       "2152          0        0.0          0         0.0         0.0          0   \n",
       "...         ...        ...        ...         ...         ...        ...   \n",
       "37836       956      389.0       4559      3586.0       973.0          7   \n",
       "23106       689        0.0      15497     15224.0       273.0          3   \n",
       "25286         0        0.0      21600         0.0         0.0          0   \n",
       "18065        13        0.0        123         0.0         0.0          0   \n",
       "24237       512      204.0       2629      2311.0       318.0          2   \n",
       "\n",
       "       pnew_death              created_at consent_cases consent_deaths  \n",
       "50494         0.0  01/22/2020 12:00:00 AM             0              0  \n",
       "32276         0.0  03/26/2020 04:22:39 PM         Agree          Agree  \n",
       "51294         0.0  03/26/2020 04:22:39 PM         Agree      Not agree  \n",
       "8824          0.0  03/26/2020 04:22:39 PM         Agree          Agree  \n",
       "2152          0.0  03/26/2020 04:22:39 PM         Agree          Agree  \n",
       "...           ...                     ...           ...            ...  \n",
       "37836         3.0  10/19/2022 01:15:24 PM         Agree          Agree  \n",
       "23106         0.0  10/19/2022 01:15:24 PM             0          Agree  \n",
       "25286         0.0  10/19/2022 01:15:24 PM     Not agree      Not agree  \n",
       "18065         0.0  10/19/2022 01:15:24 PM             0              0  \n",
       "24237         0.0  10/19/2022 01:15:24 PM         Agree          Agree  \n",
       "\n",
       "[60060 rows x 15 columns]"
      ]
     },
     "execution_count": 3,
     "metadata": {},
     "output_type": "execute_result"
    }
   ],
   "source": [
    "\n",
    "covid_df = covid_df.fillna(0)\n",
    "\n",
    "# Copy of dataframe to be used for barchart, declaration needed to happen before changing replacing state abbreviations\n",
    "covid_df_copy = covid_df.copy()\n",
    "covid_df_copy['submission_date'] = pd.to_datetime(covid_df['submission_date'])\n",
    "covid_df_copy = covid_df_copy.sort_values('submission_date')\n",
    "\n",
    "covid_df['state'] = covid_df['state'].replace(stateDictionary)\n",
    "covid_df['submission_date'] = pd.to_datetime(covid_df['submission_date'])\n",
    "covid_df = covid_df.sort_values('submission_date')\n",
    "covid_df"
   ]
  },
  {
   "cell_type": "markdown",
   "metadata": {
    "collapsed": false
   },
   "source": [
    "# States Represented with Total Death"
   ]
  },
  {
   "cell_type": "code",
   "execution_count": 4,
   "metadata": {
    "collapsed": false
   },
   "outputs": [
    {
     "data": {
      "image/png": "[encoded data removed]",
      "text/plain": [
       "<Figure size 1200x600 with 1 Axes>"
      ]
     },
     "metadata": {},
     "output_type": "display_data"
    }
   ],
   "source": [
    "grouped_df = covid_df.groupby('state').agg({'new_death': 'sum'}).reset_index()\n",
    "grouped_df_sorted = grouped_df.sort_values('new_death', ascending=False)\n",
    "plt.figure(figsize=(12, 6))\n",
    "plt.bar(grouped_df_sorted['state'], grouped_df_sorted['new_death'], color='tab:orange')\n",
    "plt.xlabel('State')\n",
    "plt.ylabel('Total Deaths')\n",
    "plt.xticks(rotation=90)\n",
    "plt.title(\"Total Deaths by State\")\n",
    "plt.show()"
   ]
  },
  {
   "cell_type": "markdown",
   "metadata": {
    "collapsed": false
   },
   "source": [
    "# The Big Three\n",
    "From the graph below, the big three in terms of total death is California, Texas, and Florida.\n",
    "If we were to compare this to the top three states in terms of population as of 2022, it follows the same course.\n",
    "\n",
    "While it is not appropriate to come to a conclusion based on how covid spreads, it is fairly interesting to visualize the process of a higher population correlating to a higher death rate.\n"
   ]
  },
  {
   "cell_type": "code",
   "execution_count": 5,
   "metadata": {
    "collapsed": false
   },
   "outputs": [
    {
     "data": {
      "text/html": [
       "<div>\n",
       "<style scoped>\n",
       "    .dataframe tbody tr th:only-of-type {\n",
       "        vertical-align: middle;\n",
       "    }\n",
       "\n",
       "    .dataframe tbody tr th {\n",
       "        vertical-align: top;\n",
       "    }\n",
       "\n",
       "    .dataframe thead th {\n",
       "        text-align: right;\n",
       "    }\n",
       "</style>\n",
       "<table border=\"1\" class=\"dataframe\">\n",
       "  <thead>\n",
       "    <tr style=\"text-align: right;\">\n",
       "      <th></th>\n",
       "      <th>state</th>\n",
       "      <th>Total Deaths</th>\n",
       "    </tr>\n",
       "  </thead>\n",
       "  <tbody>\n",
       "    <tr>\n",
       "      <th>5</th>\n",
       "      <td>California</td>\n",
       "      <td>95604</td>\n",
       "    </tr>\n",
       "    <tr>\n",
       "      <th>51</th>\n",
       "      <td>Texas</td>\n",
       "      <td>89429</td>\n",
       "    </tr>\n",
       "    <tr>\n",
       "      <th>11</th>\n",
       "      <td>Florida</td>\n",
       "      <td>82065</td>\n",
       "    </tr>\n",
       "  </tbody>\n",
       "</table>\n",
       "</div>"
      ],
      "text/plain": [
       "         state  Total Deaths\n",
       "5   California         95604\n",
       "51       Texas         89429\n",
       "11     Florida         82065"
      ]
     },
     "execution_count": 5,
     "metadata": {},
     "output_type": "execute_result"
    }
   ],
   "source": [
    "top_three_death = grouped_df_sorted.head(3)\n",
    "top_three_death.columns = top_three_death.columns.str.replace(\"new_death\", \"Total Deaths\")\n",
    "top_three_death"
   ]
  },
  {
   "attachments": {},
   "cell_type": "markdown",
   "metadata": {
    "collapsed": false
   },
   "source": [
    "# Total Cases by State & Political Affiliation\n",
    "\n",
    "Analyzing total COVID-19 cases by state and grouping them by political party affiliation can help understand the impact of political decisions, identify potential disparities in the number of cases, and inform public health policy decisions. \n",
    "\n",
    "However, it's important to note that COVID-19 is a complex issue with many factors at play, and political party affiliation is just one of many potential variables that could influence the number of cases. Therefore, any analysis should be carefully considecrimson and not relied upon as the sole source of information."
   ]
  },
  {
   "cell_type": "code",
   "execution_count": 6,
   "metadata": {},
   "outputs": [
    {
     "data": {
      "image/png": "[encoded data removed]",
      "text/plain": [
       "<Figure size 1200x600 with 1 Axes>"
      ]
     },
     "metadata": {},
     "output_type": "display_data"
    }
   ],
   "source": [
    "# Covid total cases by state and party 2022-12-31\n",
    "# republic states 2020\n",
    "republican_states_2020 = ['AL', 'AK', 'AZ', 'AR', 'FL', 'GA', 'ID', 'IN', 'IA', 'KS', 'KY', 'LA', 'MS', 'MO', 'MT', 'NE', 'NC', 'ND', 'OH', 'OK', 'SC', 'SD', 'TN', 'TX', 'UT', 'WV', 'WI', 'WY']\n",
    "\n",
    "# democrat states 2020\n",
    "democrat_states_2020 = ['CA', 'CO', 'CT', 'DE', 'HI', 'IL', 'ME', 'MD', 'MA', 'MI', 'MN', 'NV', 'NH', 'NJ', 'NM', 'NY', 'OR', 'PA', 'RI', 'VT', 'VA', 'WA', 'DC']\n",
    "\n",
    "# group by state and sum new cases\n",
    "grouped_df_copy = covid_df_copy.groupby('state').agg({'new_case': 'sum'}).reset_index()\n",
    "grouped_df_sorted_copy = grouped_df_copy.sort_values('new_case', ascending=False)\n",
    "\n",
    "# add party column\n",
    "# grouped_df_sorted['Party'] = grouped_df_sorted['state'].apply(lambda x: 'Republican' if x in republican_states_2020 else 'Democrat')\n",
    "grouped_df_sorted_copy['Party'] = grouped_df_sorted_copy['state'].apply(lambda x: 'Republican' if x in republican_states_2020 else 'Democrat')\n",
    "\n",
    "# total cases by party\n",
    "cases_by_party = grouped_df_sorted_copy.groupby('Party').agg({'new_case': 'sum'}).reset_index()\n",
    "cases_by_party.columns = cases_by_party.columns.str.replace(\"new_case\", \"Total Cases\")\n",
    "\n",
    "# total cases by state\n",
    "cases_by_state = grouped_df_sorted_copy.groupby('state').agg({'new_case': 'sum'}).reset_index()\n",
    "cases_by_state.columns = cases_by_state.columns.str.replace(\"new_case\", \"Total Cases\")\n",
    "cases_by_state = cases_by_state.sort_values('Total Cases', ascending=False)\n",
    "\n",
    "# config that ish\n",
    "plt.figure(figsize=(12, 6))\n",
    "plt.bar(cases_by_state['state'], cases_by_state['Total Cases'])\n",
    "plt.xlabel('State')\n",
    "plt.ylabel('Total Cases')\n",
    "plt.xticks(rotation=90)\n",
    "plt.title(\"Total Cases by State\")\n",
    "\n",
    "# change the color of the bars based on party\n",
    "plt.bar(cases_by_state['state'], cases_by_state['Total Cases'], color=['crimson' if x in republican_states_2020 else 'dodgerblue' for x in cases_by_state['state']])\n",
    "\n",
    "# represent y-axis in millions of cases by leading non-zero digits\n",
    "plt.gca().yaxis.set_major_formatter(plt.FuncFormatter(lambda x, loc: \"{:,}\".format(int(x/1000000)) + 'M'))\n",
    "\n",
    "# change x-axis to abbreviations of states\n",
    "plt.xticks(cases_by_state['state'])\n",
    "\n",
    "\n",
    "# y-axis incrememt = 1 million\n",
    "plt.yticks(np.arange(0, max(cases_by_state['Total Cases']), 1000000))\n",
    "\n",
    "# add girdlines\n",
    "plt.grid(axis='y', alpha=0.5)\n",
    "\n",
    "# Legend showing total number of cases by party\n",
    "plt.legend([plt.Rectangle((0,0),1,1,fc='crimson', edgecolor = 'none'), plt.Rectangle((0,0),1,1,fc='dodgerblue', edgecolor = 'none')], ['Republican', 'Democrat'], loc=1, ncol = 2, prop={'size':16})\n",
    "\n",
    "# Table showing total number of cases by party\n",
    "plt.table(cellText=cases_by_party.values, colLabels=cases_by_party.columns, loc='bottom', cellLoc='center', colLoc='center', bbox=[0, -0.5, 1, 0.3])\n",
    "\n",
    "# plot that ish\n",
    "plt.show()\n"
   ]
  },
  {
   "cell_type": "markdown",
   "metadata": {
    "collapsed": false
   },
   "source": [
    "# Total Deaths by State Region\n",
    "In this analysis, we hope to dig into geographical regions and its potential trend in rising covid 19 deaths. For this, we are breaking America into four regions: Northeast, South, Midwest, and the West. With different climates, economics, and cultures, we hope to find if there are any patterns of differences in the number of Covid-19 deaths across these regions."
   ]
  },
  {
   "cell_type": "code",
   "execution_count": 7,
   "metadata": {
    "collapsed": false
   },
   "outputs": [
    {
     "data": {
      "image/png": "[encoded data removed]",
      "text/plain": [
       "<Figure size 800x800 with 1 Axes>"
      ]
     },
     "metadata": {},
     "output_type": "display_data"
    }
   ],
   "source": [
    "northeast_states = {'Connecticut', 'Maine', 'Massachusetts', 'New Hampshire', 'Rhode Island', 'Vermont', 'New Jersey', 'New York', 'Pennsylvania'}\n",
    "midwest_states = {'Illinois', 'Indiana', 'Michigan', 'Ohio', 'Wisconsin', 'Iowa', 'Kansas', 'Minnesota', 'Missouri', 'Nebraska', 'North Dakota', 'South Dakota'}\n",
    "south_states = {'Delaware', 'Florida', 'Georgia', 'Maryland', 'North Carolina', 'South Carolina', 'Virginia', 'West Virginia', 'Kentucky', 'Tennessee', 'Arkansas', 'Louisiana', 'Mississippi', 'Alabama', 'Arizona', 'New Mexico', 'Oklahoma', 'Texas'}\n",
    "west_states = {'Colorado', 'Idaho', 'Montana', 'Nevada', 'Utah', 'Wyoming', 'Alaska', 'California', 'Hawaii', 'Oregon', 'Washington'}\n",
    "\n",
    "state_to_region = {}\n",
    "for state in northeast_states:\n",
    "    state_to_region[state] = 'Northeast'\n",
    "for state in midwest_states:\n",
    "    state_to_region[state] = 'Midwest'\n",
    "for state in south_states:\n",
    "    state_to_region[state] = 'South'\n",
    "for state in west_states:\n",
    "    state_to_region[state] = 'West'\n",
    "\n",
    "covid_df['region'] = covid_df['state'].apply(lambda x: state_to_region.get(x, 'Unknown'))\n",
    "deaths_by_region = covid_df.groupby('region')['tot_death'].sum()\n",
    "sns.set_palette('Set2')\n",
    "plt.figure(figsize=(8, 8))\n",
    "deaths_by_region.plot(kind='pie', autopct='%1.1f%%')\n",
    "plt.title('Total Deaths by Region')\n",
    "plt.ylabel('')\n",
    "plt.show()"
   ]
  },
  {
   "cell_type": "markdown",
   "metadata": {
    "collapsed": false
   },
   "source": [
    "# Results\n",
    "In this part, we looked at the geographic distribution of Covid-19 Deaths across the four major regions in America. We can see the South has the highest amount of deaths at roughly 42.7% of recorded deaths. These results suggest there could be some sort of pattern. However, these results also could simply be due to the total amount of countries in each region. This graph should not be taken literally, but a good introduction to possible trends. In the next results, we will look into more possible ways to tie regional characteristics with covid cases."
   ]
  },
  {
   "cell_type": "markdown",
   "metadata": {
    "collapsed": false
   },
   "source": [
    "# Total Cases By Region\n",
    "In this analysis, we aim to explore geographical regions in the United States and their potential trends in rising COVID-19 cases. To accomplish this, we have divided the country into four regions: Northeast, South, Midwest, and West. Our objective is to determine if there are any discernible patterns in the number of COVID-19 cases across these regions. By analyzing these trends, we hope to gain insights into how the pandemic is impacting different areas of the country."
   ]
  },
  {
   "cell_type": "code",
   "execution_count": 8,
   "metadata": {
    "collapsed": false
   },
   "outputs": [
    {
     "data": {
      "image/png": "[encoded data removed]",
      "text/plain": [
       "<Figure size 800x800 with 1 Axes>"
      ]
     },
     "metadata": {},
     "output_type": "display_data"
    }
   ],
   "source": [
    "deaths_by_region = covid_df.groupby('region')['tot_cases'].sum()\n",
    "sns.set_palette('Set2')\n",
    "plt.figure(figsize=(8, 8))\n",
    "deaths_by_region.plot(kind='pie', autopct='%1.1f%%')\n",
    "plt.title('Total Cases by Region')\n",
    "plt.ylabel('')\n",
    "plt.show()"
   ]
  },
  {
   "cell_type": "markdown",
   "metadata": {
    "collapsed": false
   },
   "source": [
    "# Results\n",
    "The following results be in the {Total Death % : Total Cases %}\n",
    "South: 42.7% : 42.2%\n",
    "West: 14.3% : 18.8%\n",
    "Midwest: 20.4% : 21.1%\n",
    "Northeast: 16.5% : 13.8%"
   ]
  },
  {
   "attachments": {},
   "cell_type": "markdown",
   "metadata": {},
   "source": [
    "# Total Cases - Choropleth Map\n",
    "In this analysis, we're trying to offer an alternative visualization to see and understand cases by state at a glance. We're using a choropleth map to visualize the total number of cases per state. Another This will also help us to see if there are any patterns in the data that we can identify. Such as, states with high case numbers and whether neighboring states have similar numbers."
   ]
  },
  {
   "cell_type": "code",
   "execution_count": 9,
   "metadata": {
    "collapsed": false
   },
   "outputs": [
    {
     "data": {
      "application/vnd.plotly.v1+json": {
       "config": {
        "plotlyServerURL": "https://plot.ly"
       },
       "data": [
        {
         "coloraxis": "coloraxis",
         "geo": "geo",
         "hovertemplate": "state=%{location}<br>Total Cases=%{z}<extra></extra>",
         "locationmode": "USA-states",
         "locations": [
          "CA",
          "TX",
          "FL",
          "IL",
          "NY",
          "PA",
          "NC",
          "OH",
          "NYC",
          "GA",
          "MI",
          "NJ",
          "TN",
          "AZ",
          "VA",
          "MA",
          "IN",
          "WI",
          "WA",
          "SC",
          "MN",
          "CO",
          "MO",
          "KY",
          "AL",
          "LA",
          "MD",
          "OK",
          "UT",
          "PR",
          "AR",
          "MS",
          "OR",
          "CT",
          "KS",
          "IA",
          "NV",
          "NM",
          "WV",
          "NE",
          "ID",
          "RI",
          "NH",
          "HI",
          "DE",
          "MT",
          "ME",
          "AK",
          "ND",
          "SD",
          "WY",
          "DC",
          "VT",
          "GU",
          "VI",
          "FSM",
          "RMI",
          "MP",
          "AS",
          "PW"
         ],
         "name": "",
         "type": "choropleth",
         "z": [
          11131987,
          7704165,
          7145833,
          3789532,
          3275131,
          3263235,
          3229459,
          3158124,
          2912489,
          2902532,
          2873184,
          2782966,
          2331356,
          2277635,
          2106527,
          2068143,
          1928722,
          1883128,
          1828918,
          1718563,
          1667306,
          1665114,
          1649454,
          1602633,
          1530803,
          1366706,
          1261834,
          1205519,
          1041651,
          968623,
          956424,
          919938,
          902319,
          892392,
          883063,
          856488,
          793802,
          623179,
          605012,
          518493,
          498082,
          408139,
          354443,
          336573,
          311538,
          311041,
          294927,
          283146,
          271085,
          262161,
          178032,
          168511,
          133845,
          58703,
          23165,
          22525,
          15389,
          13202,
          8251,
          5519
         ]
        }
       ],
       "layout": {
        "coloraxis": {
         "colorbar": {
          "title": {
           "text": "Total Cases"
          }
         },
         "colorscale": [
          [
           0,
           "rgb(255,245,240)"
          ],
          [
           0.125,
           "rgb(254,224,210)"
          ],
          [
           0.25,
           "rgb(252,187,161)"
          ],
          [
           0.375,
           "rgb(252,146,114)"
          ],
          [
           0.5,
           "rgb(251,106,74)"
          ],
          [
           0.625,
           "rgb(239,59,44)"
          ],
          [
           0.75,
           "rgb(203,24,29)"
          ],
          [
           0.875,
           "rgb(165,15,21)"
          ],
          [
           1,
           "rgb(103,0,13)"
          ]
         ]
        },
        "geo": {
         "center": {},
         "domain": {
          "x": [
           0,
           1
          ],
          "y": [
           0,
           1
          ]
         },
         "scope": "usa"
        },
        "legend": {
         "tracegroupgap": 0
        },
        "template": {
         "data": {
          "bar": [
           {
            "error_x": {
             "color": "#2a3f5f"
            },
            "error_y": {
             "color": "#2a3f5f"
            },
            "marker": {
             "line": {
              "color": "#E5ECF6",
              "width": 0.5
             },
             "pattern": {
              "fillmode": "overlay",
              "size": 10,
              "solidity": 0.2
             }
            },
            "type": "bar"
           }
          ],
          "barpolar": [
           {
            "marker": {
             "line": {
              "color": "#E5ECF6",
              "width": 0.5
             },
             "pattern": {
              "fillmode": "overlay",
              "size": 10,
              "solidity": 0.2
             }
            },
            "type": "barpolar"
           }
          ],
          "carpet": [
           {
            "aaxis": {
             "endlinecolor": "#2a3f5f",
             "gridcolor": "white",
             "linecolor": "white",
             "minorgridcolor": "white",
             "startlinecolor": "#2a3f5f"
            },
            "baxis": {
             "endlinecolor": "#2a3f5f",
             "gridcolor": "white",
             "linecolor": "white",
             "minorgridcolor": "white",
             "startlinecolor": "#2a3f5f"
            },
            "type": "carpet"
           }
          ],
          "choropleth": [
           {
            "colorbar": {
             "outlinewidth": 0,
             "ticks": ""
            },
            "type": "choropleth"
           }
          ],
          "contour": [
           {
            "colorbar": {
             "outlinewidth": 0,
             "ticks": ""
            },
            "colorscale": [
             [
              0,
              "#0d0887"
             ],
             [
              0.1111111111111111,
              "#46039f"
             ],
             [
              0.2222222222222222,
              "#7201a8"
             ],
             [
              0.3333333333333333,
              "#9c179e"
             ],
             [
              0.4444444444444444,
              "#bd3786"
             ],
             [
              0.5555555555555556,
              "#d8576b"
             ],
             [
              0.6666666666666666,
              "#ed7953"
             ],
             [
              0.7777777777777778,
              "#fb9f3a"
             ],
             [
              0.8888888888888888,
              "#fdca26"
             ],
             [
              1,
              "#f0f921"
             ]
            ],
            "type": "contour"
           }
          ],
          "contourcarpet": [
           {
            "colorbar": {
             "outlinewidth": 0,
             "ticks": ""
            },
            "type": "contourcarpet"
           }
          ],
          "heatmap": [
           {
            "colorbar": {
             "outlinewidth": 0,
             "ticks": ""
            },
            "colorscale": [
             [
              0,
              "#0d0887"
             ],
             [
              0.1111111111111111,
              "#46039f"
             ],
             [
              0.2222222222222222,
              "#7201a8"
             ],
             [
              0.3333333333333333,
              "#9c179e"
             ],
             [
              0.4444444444444444,
              "#bd3786"
             ],
             [
              0.5555555555555556,
              "#d8576b"
             ],
             [
              0.6666666666666666,
              "#ed7953"
             ],
             [
              0.7777777777777778,
              "#fb9f3a"
             ],
             [
              0.8888888888888888,
              "#fdca26"
             ],
             [
              1,
              "#f0f921"
             ]
            ],
            "type": "heatmap"
           }
          ],
          "heatmapgl": [
           {
            "colorbar": {
             "outlinewidth": 0,
             "ticks": ""
            },
            "colorscale": [
             [
              0,
              "#0d0887"
             ],
             [
              0.1111111111111111,
              "#46039f"
             ],
             [
              0.2222222222222222,
              "#7201a8"
             ],
             [
              0.3333333333333333,
              "#9c179e"
             ],
             [
              0.4444444444444444,
              "#bd3786"
             ],
             [
              0.5555555555555556,
              "#d8576b"
             ],
             [
              0.6666666666666666,
              "#ed7953"
             ],
             [
              0.7777777777777778,
              "#fb9f3a"
             ],
             [
              0.8888888888888888,
              "#fdca26"
             ],
             [
              1,
              "#f0f921"
             ]
            ],
            "type": "heatmapgl"
           }
          ],
          "histogram": [
           {
            "marker": {
             "pattern": {
              "fillmode": "overlay",
              "size": 10,
              "solidity": 0.2
             }
            },
            "type": "histogram"
           }
          ],
          "histogram2d": [
           {
            "colorbar": {
             "outlinewidth": 0,
             "ticks": ""
            },
            "colorscale": [
             [
              0,
              "#0d0887"
             ],
             [
              0.1111111111111111,
              "#46039f"
             ],
             [
              0.2222222222222222,
              "#7201a8"
             ],
             [
              0.3333333333333333,
              "#9c179e"
             ],
             [
              0.4444444444444444,
              "#bd3786"
             ],
             [
              0.5555555555555556,
              "#d8576b"
             ],
             [
              0.6666666666666666,
              "#ed7953"
             ],
             [
              0.7777777777777778,
              "#fb9f3a"
             ],
             [
              0.8888888888888888,
              "#fdca26"
             ],
             [
              1,
              "#f0f921"
             ]
            ],
            "type": "histogram2d"
           }
          ],
          "histogram2dcontour": [
           {
            "colorbar": {
             "outlinewidth": 0,
             "ticks": ""
            },
            "colorscale": [
             [
              0,
              "#0d0887"
             ],
             [
              0.1111111111111111,
              "#46039f"
             ],
             [
              0.2222222222222222,
              "#7201a8"
             ],
             [
              0.3333333333333333,
              "#9c179e"
             ],
             [
              0.4444444444444444,
              "#bd3786"
             ],
             [
              0.5555555555555556,
              "#d8576b"
             ],
             [
              0.6666666666666666,
              "#ed7953"
             ],
             [
              0.7777777777777778,
              "#fb9f3a"
             ],
             [
              0.8888888888888888,
              "#fdca26"
             ],
             [
              1,
              "#f0f921"
             ]
            ],
            "type": "histogram2dcontour"
           }
          ],
          "mesh3d": [
           {
            "colorbar": {
             "outlinewidth": 0,
             "ticks": ""
            },
            "type": "mesh3d"
           }
          ],
          "parcoords": [
           {
            "line": {
             "colorbar": {
              "outlinewidth": 0,
              "ticks": ""
             }
            },
            "type": "parcoords"
           }
          ],
          "pie": [
           {
            "automargin": true,
            "type": "pie"
           }
          ],
          "scatter": [
           {
            "fillpattern": {
             "fillmode": "overlay",
             "size": 10,
             "solidity": 0.2
            },
            "type": "scatter"
           }
          ],
          "scatter3d": [
           {
            "line": {
             "colorbar": {
              "outlinewidth": 0,
              "ticks": ""
             }
            },
            "marker": {
             "colorbar": {
              "outlinewidth": 0,
              "ticks": ""
             }
            },
            "type": "scatter3d"
           }
          ],
          "scattercarpet": [
           {
            "marker": {
             "colorbar": {
              "outlinewidth": 0,
              "ticks": ""
             }
            },
            "type": "scattercarpet"
           }
          ],
          "scattergeo": [
           {
            "marker": {
             "colorbar": {
              "outlinewidth": 0,
              "ticks": ""
             }
            },
            "type": "scattergeo"
           }
          ],
          "scattergl": [
           {
            "marker": {
             "colorbar": {
              "outlinewidth": 0,
              "ticks": ""
             }
            },
            "type": "scattergl"
           }
          ],
          "scattermapbox": [
           {
            "marker": {
             "colorbar": {
              "outlinewidth": 0,
              "ticks": ""
             }
            },
            "type": "scattermapbox"
           }
          ],
          "scatterpolar": [
           {
            "marker": {
             "colorbar": {
              "outlinewidth": 0,
              "ticks": ""
             }
            },
            "type": "scatterpolar"
           }
          ],
          "scatterpolargl": [
           {
            "marker": {
             "colorbar": {
              "outlinewidth": 0,
              "ticks": ""
             }
            },
            "type": "scatterpolargl"
           }
          ],
          "scatterternary": [
           {
            "marker": {
             "colorbar": {
              "outlinewidth": 0,
              "ticks": ""
             }
            },
            "type": "scatterternary"
           }
          ],
          "surface": [
           {
            "colorbar": {
             "outlinewidth": 0,
             "ticks": ""
            },
            "colorscale": [
             [
              0,
              "#0d0887"
             ],
             [
              0.1111111111111111,
              "#46039f"
             ],
             [
              0.2222222222222222,
              "#7201a8"
             ],
             [
              0.3333333333333333,
              "#9c179e"
             ],
             [
              0.4444444444444444,
              "#bd3786"
             ],
             [
              0.5555555555555556,
              "#d8576b"
             ],
             [
              0.6666666666666666,
              "#ed7953"
             ],
             [
              0.7777777777777778,
              "#fb9f3a"
             ],
             [
              0.8888888888888888,
              "#fdca26"
             ],
             [
              1,
              "#f0f921"
             ]
            ],
            "type": "surface"
           }
          ],
          "table": [
           {
            "cells": {
             "fill": {
              "color": "#EBF0F8"
             },
             "line": {
              "color": "white"
             }
            },
            "header": {
             "fill": {
              "color": "#C8D4E3"
             },
             "line": {
              "color": "white"
             }
            },
            "type": "table"
           }
          ]
         },
         "layout": {
          "annotationdefaults": {
           "arrowcolor": "#2a3f5f",
           "arrowhead": 0,
           "arrowwidth": 1
          },
          "autotypenumbers": "strict",
          "coloraxis": {
           "colorbar": {
            "outlinewidth": 0,
            "ticks": ""
           }
          },
          "colorscale": {
           "diverging": [
            [
             0,
             "#8e0152"
            ],
            [
             0.1,
             "#c51b7d"
            ],
            [
             0.2,
             "#de77ae"
            ],
            [
             0.3,
             "#f1b6da"
            ],
            [
             0.4,
             "#fde0ef"
            ],
            [
             0.5,
             "#f7f7f7"
            ],
            [
             0.6,
             "#e6f5d0"
            ],
            [
             0.7,
             "#b8e186"
            ],
            [
             0.8,
             "#7fbc41"
            ],
            [
             0.9,
             "#4d9221"
            ],
            [
             1,
             "#276419"
            ]
           ],
           "sequential": [
            [
             0,
             "#0d0887"
            ],
            [
             0.1111111111111111,
             "#46039f"
            ],
            [
             0.2222222222222222,
             "#7201a8"
            ],
            [
             0.3333333333333333,
             "#9c179e"
            ],
            [
             0.4444444444444444,
             "#bd3786"
            ],
            [
             0.5555555555555556,
             "#d8576b"
            ],
            [
             0.6666666666666666,
             "#ed7953"
            ],
            [
             0.7777777777777778,
             "#fb9f3a"
            ],
            [
             0.8888888888888888,
             "#fdca26"
            ],
            [
             1,
             "#f0f921"
            ]
           ],
           "sequentialminus": [
            [
             0,
             "#0d0887"
            ],
            [
             0.1111111111111111,
             "#46039f"
            ],
            [
             0.2222222222222222,
             "#7201a8"
            ],
            [
             0.3333333333333333,
             "#9c179e"
            ],
            [
             0.4444444444444444,
             "#bd3786"
            ],
            [
             0.5555555555555556,
             "#d8576b"
            ],
            [
             0.6666666666666666,
             "#ed7953"
            ],
            [
             0.7777777777777778,
             "#fb9f3a"
            ],
            [
             0.8888888888888888,
             "#fdca26"
            ],
            [
             1,
             "#f0f921"
            ]
           ]
          },
          "colorway": [
           "#636efa",
           "#EF553B",
           "#00cc96",
           "#ab63fa",
           "#FFA15A",
           "#19d3f3",
           "#FF6692",
           "#B6E880",
           "#FF97FF",
           "#FECB52"
          ],
          "font": {
           "color": "#2a3f5f"
          },
          "geo": {
           "bgcolor": "white",
           "lakecolor": "white",
           "landcolor": "#E5ECF6",
           "showlakes": true,
           "showland": true,
           "subunitcolor": "white"
          },
          "hoverlabel": {
           "align": "left"
          },
          "hovermode": "closest",
          "mapbox": {
           "style": "light"
          },
          "paper_bgcolor": "white",
          "plot_bgcolor": "#E5ECF6",
          "polar": {
           "angularaxis": {
            "gridcolor": "white",
            "linecolor": "white",
            "ticks": ""
           },
           "bgcolor": "#E5ECF6",
           "radialaxis": {
            "gridcolor": "white",
            "linecolor": "white",
            "ticks": ""
           }
          },
          "scene": {
           "xaxis": {
            "backgroundcolor": "#E5ECF6",
            "gridcolor": "white",
            "gridwidth": 2,
            "linecolor": "white",
            "showbackground": true,
            "ticks": "",
            "zerolinecolor": "white"
           },
           "yaxis": {
            "backgroundcolor": "#E5ECF6",
            "gridcolor": "white",
            "gridwidth": 2,
            "linecolor": "white",
            "showbackground": true,
            "ticks": "",
            "zerolinecolor": "white"
           },
           "zaxis": {
            "backgroundcolor": "#E5ECF6",
            "gridcolor": "white",
            "gridwidth": 2,
            "linecolor": "white",
            "showbackground": true,
            "ticks": "",
            "zerolinecolor": "white"
           }
          },
          "shapedefaults": {
           "line": {
            "color": "#2a3f5f"
           }
          },
          "ternary": {
           "aaxis": {
            "gridcolor": "white",
            "linecolor": "white",
            "ticks": ""
           },
           "baxis": {
            "gridcolor": "white",
            "linecolor": "white",
            "ticks": ""
           },
           "bgcolor": "#E5ECF6",
           "caxis": {
            "gridcolor": "white",
            "linecolor": "white",
            "ticks": ""
           }
          },
          "title": {
           "x": 0.05
          },
          "xaxis": {
           "automargin": true,
           "gridcolor": "white",
           "linecolor": "white",
           "ticks": "",
           "title": {
            "standoff": 15
           },
           "zerolinecolor": "white",
           "zerolinewidth": 2
          },
          "yaxis": {
           "automargin": true,
           "gridcolor": "white",
           "linecolor": "white",
           "ticks": "",
           "title": {
            "standoff": 15
           },
           "zerolinecolor": "white",
           "zerolinewidth": 2
          }
         }
        },
        "title": {
         "text": "Total Cases by State"
        }
       }
      }
     },
     "metadata": {},
     "output_type": "display_data"
    }
   ],
   "source": [
    "# chloropleth map of total cases by state\n",
    "fig = px.choropleth(cases_by_state, locations='state', locationmode=\"USA-states\", color='Total Cases', scope=\"usa\", color_continuous_scale=\"Reds\", title='Total Cases by State')\n",
    "fig.show()\n"
   ]
  },
  {
   "attachments": {},
   "cell_type": "markdown",
   "metadata": {},
   "source": [
    "# Results \n",
    "As we can see here he darker the color, the higher the number of cases. This visualization allows us to see the total number of cases per state at a glance, and we can see that the states with the highest number of cases are California, Texas, and Florida. This is informationw we already know, but it's interesting to see states adjacent to certain states that were considered to be epicenters of the pandemic, such as the northeast region, who all appear to have a relatively elevated number of cases, this could be due to the fact that these states are in close proximity to each other who all have a high population density and a lot of commuting traffic, meaning people may have traveled between them during the pandemic. Or it could be due to the specific policies implemented by each state. These are things that we can explore further in future analyses. "
   ]
  },
  {
   "cell_type": "code",
   "execution_count": null,
   "metadata": {},
   "outputs": [],
   "source": []
  },
  {
   "attachments": {},
   "cell_type": "markdown",
   "metadata": {},
   "source": [
    "# More Data - CovidActNow.org API\n",
    "Next we will incorporating new data provided by CovidActNow.org's API. They provide access to comprehensive COVID data — both current and historical. The data is available for all US states, counties, and metros and is aggregated from a number of official sources, quality assured, and updated daily. It is available in JSON and CSV formats. "
   ]
  },
  {
   "cell_type": "code",
   "execution_count": 10,
   "metadata": {},
   "outputs": [],
   "source": [
    "# CovidActNow API call\n",
    "state = 'WI'\n",
    "url_state_current = f'https://api.covidactnow.org/v2/state/{state}.json?apiKey={API_KEY}'\n",
    "jsn = requests.get(url_state_current).json()\n",
    "\n",
    "# prints json to show what data is available\n",
    "#pprint(jsn)"
   ]
  },
  {
   "cell_type": "code",
   "execution_count": 11,
   "metadata": {},
   "outputs": [
    {
     "data": {
      "text/plain": [
       "fips                                                      55\n",
       "country                                                   US\n",
       "state                                                     WI\n",
       "county                                                  None\n",
       "hsa                                                     None\n",
       "                                                        ... \n",
       "annotations.weeklyCovidAdmissionsPer100k                None\n",
       "annotations.vaccinationsInitiatedRatio                  None\n",
       "annotations.vaccinationsCompletedRatio                  None\n",
       "annotations.vaccinationsAdditionalDoseRatio             None\n",
       "annotations.vaccinationsFall2022BivalentBoosterRatio    None\n",
       "Name: current, Length: 139, dtype: object"
      ]
     },
     "execution_count": 11,
     "metadata": {},
     "output_type": "execute_result"
    }
   ],
   "source": [
    "def parse_json_current(jsn):\n",
    "    s = pd.json_normalize(jsn).iloc[0]\n",
    "    return s.rename('current')\n",
    "\n",
    "df = parse_json_current(jsn)\n",
    "df"
   ]
  },
  {
   "cell_type": "code",
   "execution_count": 12,
   "metadata": {},
   "outputs": [],
   "source": [
    "def pull_state_timeseries(state):\n",
    "    url_state = f'https://api.covidactnow.org/v2/state/{state}.timeseries.json?apiKey={API_KEY}'\n",
    "    return requests.get(url_state).json()\n",
    "\n",
    "def pull_us_timeseries():\n",
    "    url = f'https://api.covidactnow.org/v2/country/US.timeseries.json?apiKey={API_KEY}'\n",
    "    return requests.get(url).json()"
   ]
  },
  {
   "cell_type": "code",
   "execution_count": 13,
   "metadata": {},
   "outputs": [
    {
     "data": {
      "text/html": [
       "<div>\n",
       "<style scoped>\n",
       "    .dataframe tbody tr th:only-of-type {\n",
       "        vertical-align: middle;\n",
       "    }\n",
       "\n",
       "    .dataframe tbody tr th {\n",
       "        vertical-align: top;\n",
       "    }\n",
       "\n",
       "    .dataframe thead th {\n",
       "        text-align: right;\n",
       "    }\n",
       "</style>\n",
       "<table border=\"1\" class=\"dataframe\">\n",
       "  <thead>\n",
       "    <tr style=\"text-align: right;\">\n",
       "      <th></th>\n",
       "      <th>testPositivityRatio</th>\n",
       "      <th>testPositivityRatioDetails</th>\n",
       "      <th>caseDensity</th>\n",
       "      <th>weeklyNewCasesPer100k</th>\n",
       "      <th>contactTracerCapacityRatio</th>\n",
       "      <th>infectionRate</th>\n",
       "      <th>infectionRateCI90</th>\n",
       "      <th>icuCapacityRatio</th>\n",
       "      <th>bedsWithCovidPatientsRatio</th>\n",
       "      <th>weeklyCovidAdmissionsPer100k</th>\n",
       "      <th>vaccinationsInitiatedRatio</th>\n",
       "      <th>vaccinationsCompletedRatio</th>\n",
       "      <th>vaccinationsAdditionalDoseRatio</th>\n",
       "      <th>vaccinationsFall2022BivalentBoosterRatio</th>\n",
       "      <th>population</th>\n",
       "    </tr>\n",
       "  </thead>\n",
       "  <tbody>\n",
       "    <tr>\n",
       "      <th>AK</th>\n",
       "      <td>0.066</td>\n",
       "      <td>{'source': 'other'}</td>\n",
       "      <td>5.5</td>\n",
       "      <td>38.3</td>\n",
       "      <td>None</td>\n",
       "      <td>1.01</td>\n",
       "      <td>0.21</td>\n",
       "      <td>0.81</td>\n",
       "      <td>0.009</td>\n",
       "      <td>1.9</td>\n",
       "      <td>0.732</td>\n",
       "      <td>0.653</td>\n",
       "      <td>0.324</td>\n",
       "      <td>0.140</td>\n",
       "      <td>731545</td>\n",
       "    </tr>\n",
       "    <tr>\n",
       "      <th>AL</th>\n",
       "      <td>0.037</td>\n",
       "      <td>{'source': 'other'}</td>\n",
       "      <td>4.4</td>\n",
       "      <td>30.9</td>\n",
       "      <td>None</td>\n",
       "      <td>1.06</td>\n",
       "      <td>0.10</td>\n",
       "      <td>0.81</td>\n",
       "      <td>0.012</td>\n",
       "      <td>2.9</td>\n",
       "      <td>0.651</td>\n",
       "      <td>0.532</td>\n",
       "      <td>0.212</td>\n",
       "      <td>0.076</td>\n",
       "      <td>4903185</td>\n",
       "    </tr>\n",
       "    <tr>\n",
       "      <th>AR</th>\n",
       "      <td>0.061</td>\n",
       "      <td>{'source': 'other'}</td>\n",
       "      <td>3.4</td>\n",
       "      <td>23.6</td>\n",
       "      <td>None</td>\n",
       "      <td>1.12</td>\n",
       "      <td>0.14</td>\n",
       "      <td>0.82</td>\n",
       "      <td>0.018</td>\n",
       "      <td>3.2</td>\n",
       "      <td>0.701</td>\n",
       "      <td>0.570</td>\n",
       "      <td>0.254</td>\n",
       "      <td>0.109</td>\n",
       "      <td>3017804</td>\n",
       "    </tr>\n",
       "    <tr>\n",
       "      <th>AZ</th>\n",
       "      <td>0.086</td>\n",
       "      <td>{'source': 'other'}</td>\n",
       "      <td>7.9</td>\n",
       "      <td>55.0</td>\n",
       "      <td>None</td>\n",
       "      <td>1.17</td>\n",
       "      <td>0.10</td>\n",
       "      <td>0.68</td>\n",
       "      <td>0.029</td>\n",
       "      <td>4.2</td>\n",
       "      <td>0.783</td>\n",
       "      <td>0.662</td>\n",
       "      <td>0.332</td>\n",
       "      <td>0.155</td>\n",
       "      <td>7278717</td>\n",
       "    </tr>\n",
       "    <tr>\n",
       "      <th>CA</th>\n",
       "      <td>0.052</td>\n",
       "      <td>{'source': 'other'}</td>\n",
       "      <td>4.5</td>\n",
       "      <td>31.7</td>\n",
       "      <td>None</td>\n",
       "      <td>1.12</td>\n",
       "      <td>0.10</td>\n",
       "      <td>0.73</td>\n",
       "      <td>0.022</td>\n",
       "      <td>4.0</td>\n",
       "      <td>0.850</td>\n",
       "      <td>0.749</td>\n",
       "      <td>0.441</td>\n",
       "      <td>0.204</td>\n",
       "      <td>39512223</td>\n",
       "    </tr>\n",
       "  </tbody>\n",
       "</table>\n",
       "</div>"
      ],
      "text/plain": [
       "    testPositivityRatio testPositivityRatioDetails  caseDensity  \\\n",
       "AK                0.066        {'source': 'other'}          5.5   \n",
       "AL                0.037        {'source': 'other'}          4.4   \n",
       "AR                0.061        {'source': 'other'}          3.4   \n",
       "AZ                0.086        {'source': 'other'}          7.9   \n",
       "CA                0.052        {'source': 'other'}          4.5   \n",
       "\n",
       "    weeklyNewCasesPer100k contactTracerCapacityRatio  infectionRate  \\\n",
       "AK                   38.3                       None           1.01   \n",
       "AL                   30.9                       None           1.06   \n",
       "AR                   23.6                       None           1.12   \n",
       "AZ                   55.0                       None           1.17   \n",
       "CA                   31.7                       None           1.12   \n",
       "\n",
       "    infectionRateCI90  icuCapacityRatio  bedsWithCovidPatientsRatio  \\\n",
       "AK               0.21              0.81                       0.009   \n",
       "AL               0.10              0.81                       0.012   \n",
       "AR               0.14              0.82                       0.018   \n",
       "AZ               0.10              0.68                       0.029   \n",
       "CA               0.10              0.73                       0.022   \n",
       "\n",
       "    weeklyCovidAdmissionsPer100k  vaccinationsInitiatedRatio  \\\n",
       "AK                           1.9                       0.732   \n",
       "AL                           2.9                       0.651   \n",
       "AR                           3.2                       0.701   \n",
       "AZ                           4.2                       0.783   \n",
       "CA                           4.0                       0.850   \n",
       "\n",
       "    vaccinationsCompletedRatio  vaccinationsAdditionalDoseRatio  \\\n",
       "AK                       0.653                            0.324   \n",
       "AL                       0.532                            0.212   \n",
       "AR                       0.570                            0.254   \n",
       "AZ                       0.662                            0.332   \n",
       "CA                       0.749                            0.441   \n",
       "\n",
       "    vaccinationsFall2022BivalentBoosterRatio  population  \n",
       "AK                                     0.140      731545  \n",
       "AL                                     0.076     4903185  \n",
       "AR                                     0.109     3017804  \n",
       "AZ                                     0.155     7278717  \n",
       "CA                                     0.204    39512223  "
      ]
     },
     "execution_count": 13,
     "metadata": {},
     "output_type": "execute_result"
    }
   ],
   "source": [
    "us_states_current = f'https://api.covidactnow.org/v2/states.json?apiKey={API_KEY}'\n",
    "jsn = requests.get(us_states_current).json()\n",
    "df_current = pd.DataFrame([item['metrics'] for item in jsn], index=[item['state'] for item in jsn] )\n",
    "df_current['population'] = pd.Series([item['population'] for item in jsn], index=[item['state'] for item in jsn] )\n",
    "df_current.head()"
   ]
  },
  {
   "attachments": {},
   "cell_type": "markdown",
   "metadata": {},
   "source": [
    "# Current Population vs. Case Density - Scatter Plot\n",
    "Here we are looking at the current population of each state and the case density. We are using a scatter plot to visualize the data. This help us to see if there is a correlation between the population per unit land area of a state and the number of cases.\n",
    "\n",
    "### (In order to see data on a specifdic state, we can hover over the data point and see the state name and the number of cases per 100,000 people.)"
   ]
  },
  {
   "cell_type": "code",
   "execution_count": 14,
   "metadata": {},
   "outputs": [
    {
     "data": {
      "application/vnd.plotly.v1+json": {
       "config": {
        "plotlyServerURL": "https://plot.ly"
       },
       "data": [
        {
         "hovertemplate": "<b>%{hovertext}</b><br><br>x=%{x}<br>y=%{y}<br>size=%{marker.size}<extra></extra>",
         "hovertext": [
          "AK",
          "AL",
          "AR",
          "AZ",
          "CA",
          "CO",
          "CT",
          "DC",
          "DE",
          "FL",
          "GA",
          "HI",
          "IA",
          "ID",
          "IL",
          "IN",
          "KS",
          "KY",
          "LA",
          "MA",
          "MD",
          "ME",
          "MI",
          "MN",
          "MO",
          "MP",
          "MS",
          "MT",
          "NC",
          "ND",
          "NE",
          "NH",
          "NJ",
          "NM",
          "NV",
          "NY",
          "OH",
          "OK",
          "OR",
          "PA",
          "PR",
          "RI",
          "SC",
          "SD",
          "TN",
          "TX",
          "UT",
          "VA",
          "VT",
          "WA",
          "WI",
          "WV",
          "WY"
         ],
         "legendgroup": "",
         "marker": {
          "color": "#636efa",
          "size": [
           731545,
           4903185,
           3017804,
           7278717,
           39512223,
           5758736,
           3565287,
           705749,
           973764,
           21477737,
           10617423,
           1415872,
           3155070,
           1787065,
           12671821,
           6732219,
           2913314,
           4467673,
           4648794,
           6892503,
           6045680,
           1344212,
           9986857,
           5639632,
           6137428,
           53605,
           2976149,
           1068778,
           10488084,
           762062,
           1934408,
           1359711,
           8882190,
           2096829,
           3080156,
           19453561,
           11689100,
           3956971,
           4217737,
           12801989,
           3193694,
           1059361,
           5148714,
           884659,
           6829174,
           28995881,
           3205958,
           8535519,
           623989,
           7614893,
           5822434,
           1792147,
           578759
          ],
          "sizemode": "area",
          "sizeref": 98780.5575,
          "symbol": "circle"
         },
         "mode": "markers",
         "name": "",
         "orientation": "v",
         "showlegend": false,
         "type": "scatter",
         "x": [
          731545,
          4903185,
          3017804,
          7278717,
          39512223,
          5758736,
          3565287,
          705749,
          973764,
          21477737,
          10617423,
          1415872,
          3155070,
          1787065,
          12671821,
          6732219,
          2913314,
          4467673,
          4648794,
          6892503,
          6045680,
          1344212,
          9986857,
          5639632,
          6137428,
          53605,
          2976149,
          1068778,
          10488084,
          762062,
          1934408,
          1359711,
          8882190,
          2096829,
          3080156,
          19453561,
          11689100,
          3956971,
          4217737,
          12801989,
          3193694,
          1059361,
          5148714,
          884659,
          6829174,
          28995881,
          3205958,
          8535519,
          623989,
          7614893,
          5822434,
          1792147,
          578759
         ],
         "xaxis": "x",
         "y": [
          5.5,
          4.4,
          3.4,
          7.9,
          4.5,
          6,
          1.7,
          1.6,
          1.1,
          null,
          2.6,
          8.4,
          null,
          3.4,
          4.7,
          8.9,
          2.8,
          3.3,
          8.7,
          2.9,
          3.2,
          4.3,
          4.5,
          3.2,
          4,
          2.7,
          2.6,
          3.7,
          3.5,
          4.6,
          3.1,
          3.9,
          3.4,
          7.4,
          3.4,
          3,
          4.1,
          8.1,
          4.1,
          3,
          11.5,
          2.6,
          3.8,
          4.3,
          4.6,
          4.1,
          2.6,
          2.7,
          3.2,
          4.5,
          3.8,
          4.6,
          3.1
         ],
         "yaxis": "y"
        }
       ],
       "layout": {
        "legend": {
         "itemsizing": "constant",
         "tracegroupgap": 0
        },
        "template": {
         "data": {
          "bar": [
           {
            "error_x": {
             "color": "#2a3f5f"
            },
            "error_y": {
             "color": "#2a3f5f"
            },
            "marker": {
             "line": {
              "color": "#E5ECF6",
              "width": 0.5
             },
             "pattern": {
              "fillmode": "overlay",
              "size": 10,
              "solidity": 0.2
             }
            },
            "type": "bar"
           }
          ],
          "barpolar": [
           {
            "marker": {
             "line": {
              "color": "#E5ECF6",
              "width": 0.5
             },
             "pattern": {
              "fillmode": "overlay",
              "size": 10,
              "solidity": 0.2
             }
            },
            "type": "barpolar"
           }
          ],
          "carpet": [
           {
            "aaxis": {
             "endlinecolor": "#2a3f5f",
             "gridcolor": "white",
             "linecolor": "white",
             "minorgridcolor": "white",
             "startlinecolor": "#2a3f5f"
            },
            "baxis": {
             "endlinecolor": "#2a3f5f",
             "gridcolor": "white",
             "linecolor": "white",
             "minorgridcolor": "white",
             "startlinecolor": "#2a3f5f"
            },
            "type": "carpet"
           }
          ],
          "choropleth": [
           {
            "colorbar": {
             "outlinewidth": 0,
             "ticks": ""
            },
            "type": "choropleth"
           }
          ],
          "contour": [
           {
            "colorbar": {
             "outlinewidth": 0,
             "ticks": ""
            },
            "colorscale": [
             [
              0,
              "#0d0887"
             ],
             [
              0.1111111111111111,
              "#46039f"
             ],
             [
              0.2222222222222222,
              "#7201a8"
             ],
             [
              0.3333333333333333,
              "#9c179e"
             ],
             [
              0.4444444444444444,
              "#bd3786"
             ],
             [
              0.5555555555555556,
              "#d8576b"
             ],
             [
              0.6666666666666666,
              "#ed7953"
             ],
             [
              0.7777777777777778,
              "#fb9f3a"
             ],
             [
              0.8888888888888888,
              "#fdca26"
             ],
             [
              1,
              "#f0f921"
             ]
            ],
            "type": "contour"
           }
          ],
          "contourcarpet": [
           {
            "colorbar": {
             "outlinewidth": 0,
             "ticks": ""
            },
            "type": "contourcarpet"
           }
          ],
          "heatmap": [
           {
            "colorbar": {
             "outlinewidth": 0,
             "ticks": ""
            },
            "colorscale": [
             [
              0,
              "#0d0887"
             ],
             [
              0.1111111111111111,
              "#46039f"
             ],
             [
              0.2222222222222222,
              "#7201a8"
             ],
             [
              0.3333333333333333,
              "#9c179e"
             ],
             [
              0.4444444444444444,
              "#bd3786"
             ],
             [
              0.5555555555555556,
              "#d8576b"
             ],
             [
              0.6666666666666666,
              "#ed7953"
             ],
             [
              0.7777777777777778,
              "#fb9f3a"
             ],
             [
              0.8888888888888888,
              "#fdca26"
             ],
             [
              1,
              "#f0f921"
             ]
            ],
            "type": "heatmap"
           }
          ],
          "heatmapgl": [
           {
            "colorbar": {
             "outlinewidth": 0,
             "ticks": ""
            },
            "colorscale": [
             [
              0,
              "#0d0887"
             ],
             [
              0.1111111111111111,
              "#46039f"
             ],
             [
              0.2222222222222222,
              "#7201a8"
             ],
             [
              0.3333333333333333,
              "#9c179e"
             ],
             [
              0.4444444444444444,
              "#bd3786"
             ],
             [
              0.5555555555555556,
              "#d8576b"
             ],
             [
              0.6666666666666666,
              "#ed7953"
             ],
             [
              0.7777777777777778,
              "#fb9f3a"
             ],
             [
              0.8888888888888888,
              "#fdca26"
             ],
             [
              1,
              "#f0f921"
             ]
            ],
            "type": "heatmapgl"
           }
          ],
          "histogram": [
           {
            "marker": {
             "pattern": {
              "fillmode": "overlay",
              "size": 10,
              "solidity": 0.2
             }
            },
            "type": "histogram"
           }
          ],
          "histogram2d": [
           {
            "colorbar": {
             "outlinewidth": 0,
             "ticks": ""
            },
            "colorscale": [
             [
              0,
              "#0d0887"
             ],
             [
              0.1111111111111111,
              "#46039f"
             ],
             [
              0.2222222222222222,
              "#7201a8"
             ],
             [
              0.3333333333333333,
              "#9c179e"
             ],
             [
              0.4444444444444444,
              "#bd3786"
             ],
             [
              0.5555555555555556,
              "#d8576b"
             ],
             [
              0.6666666666666666,
              "#ed7953"
             ],
             [
              0.7777777777777778,
              "#fb9f3a"
             ],
             [
              0.8888888888888888,
              "#fdca26"
             ],
             [
              1,
              "#f0f921"
             ]
            ],
            "type": "histogram2d"
           }
          ],
          "histogram2dcontour": [
           {
            "colorbar": {
             "outlinewidth": 0,
             "ticks": ""
            },
            "colorscale": [
             [
              0,
              "#0d0887"
             ],
             [
              0.1111111111111111,
              "#46039f"
             ],
             [
              0.2222222222222222,
              "#7201a8"
             ],
             [
              0.3333333333333333,
              "#9c179e"
             ],
             [
              0.4444444444444444,
              "#bd3786"
             ],
             [
              0.5555555555555556,
              "#d8576b"
             ],
             [
              0.6666666666666666,
              "#ed7953"
             ],
             [
              0.7777777777777778,
              "#fb9f3a"
             ],
             [
              0.8888888888888888,
              "#fdca26"
             ],
             [
              1,
              "#f0f921"
             ]
            ],
            "type": "histogram2dcontour"
           }
          ],
          "mesh3d": [
           {
            "colorbar": {
             "outlinewidth": 0,
             "ticks": ""
            },
            "type": "mesh3d"
           }
          ],
          "parcoords": [
           {
            "line": {
             "colorbar": {
              "outlinewidth": 0,
              "ticks": ""
             }
            },
            "type": "parcoords"
           }
          ],
          "pie": [
           {
            "automargin": true,
            "type": "pie"
           }
          ],
          "scatter": [
           {
            "fillpattern": {
             "fillmode": "overlay",
             "size": 10,
             "solidity": 0.2
            },
            "type": "scatter"
           }
          ],
          "scatter3d": [
           {
            "line": {
             "colorbar": {
              "outlinewidth": 0,
              "ticks": ""
             }
            },
            "marker": {
             "colorbar": {
              "outlinewidth": 0,
              "ticks": ""
             }
            },
            "type": "scatter3d"
           }
          ],
          "scattercarpet": [
           {
            "marker": {
             "colorbar": {
              "outlinewidth": 0,
              "ticks": ""
             }
            },
            "type": "scattercarpet"
           }
          ],
          "scattergeo": [
           {
            "marker": {
             "colorbar": {
              "outlinewidth": 0,
              "ticks": ""
             }
            },
            "type": "scattergeo"
           }
          ],
          "scattergl": [
           {
            "marker": {
             "colorbar": {
              "outlinewidth": 0,
              "ticks": ""
             }
            },
            "type": "scattergl"
           }
          ],
          "scattermapbox": [
           {
            "marker": {
             "colorbar": {
              "outlinewidth": 0,
              "ticks": ""
             }
            },
            "type": "scattermapbox"
           }
          ],
          "scatterpolar": [
           {
            "marker": {
             "colorbar": {
              "outlinewidth": 0,
              "ticks": ""
             }
            },
            "type": "scatterpolar"
           }
          ],
          "scatterpolargl": [
           {
            "marker": {
             "colorbar": {
              "outlinewidth": 0,
              "ticks": ""
             }
            },
            "type": "scatterpolargl"
           }
          ],
          "scatterternary": [
           {
            "marker": {
             "colorbar": {
              "outlinewidth": 0,
              "ticks": ""
             }
            },
            "type": "scatterternary"
           }
          ],
          "surface": [
           {
            "colorbar": {
             "outlinewidth": 0,
             "ticks": ""
            },
            "colorscale": [
             [
              0,
              "#0d0887"
             ],
             [
              0.1111111111111111,
              "#46039f"
             ],
             [
              0.2222222222222222,
              "#7201a8"
             ],
             [
              0.3333333333333333,
              "#9c179e"
             ],
             [
              0.4444444444444444,
              "#bd3786"
             ],
             [
              0.5555555555555556,
              "#d8576b"
             ],
             [
              0.6666666666666666,
              "#ed7953"
             ],
             [
              0.7777777777777778,
              "#fb9f3a"
             ],
             [
              0.8888888888888888,
              "#fdca26"
             ],
             [
              1,
              "#f0f921"
             ]
            ],
            "type": "surface"
           }
          ],
          "table": [
           {
            "cells": {
             "fill": {
              "color": "#EBF0F8"
             },
             "line": {
              "color": "white"
             }
            },
            "header": {
             "fill": {
              "color": "#C8D4E3"
             },
             "line": {
              "color": "white"
             }
            },
            "type": "table"
           }
          ]
         },
         "layout": {
          "annotationdefaults": {
           "arrowcolor": "#2a3f5f",
           "arrowhead": 0,
           "arrowwidth": 1
          },
          "autotypenumbers": "strict",
          "coloraxis": {
           "colorbar": {
            "outlinewidth": 0,
            "ticks": ""
           }
          },
          "colorscale": {
           "diverging": [
            [
             0,
             "#8e0152"
            ],
            [
             0.1,
             "#c51b7d"
            ],
            [
             0.2,
             "#de77ae"
            ],
            [
             0.3,
             "#f1b6da"
            ],
            [
             0.4,
             "#fde0ef"
            ],
            [
             0.5,
             "#f7f7f7"
            ],
            [
             0.6,
             "#e6f5d0"
            ],
            [
             0.7,
             "#b8e186"
            ],
            [
             0.8,
             "#7fbc41"
            ],
            [
             0.9,
             "#4d9221"
            ],
            [
             1,
             "#276419"
            ]
           ],
           "sequential": [
            [
             0,
             "#0d0887"
            ],
            [
             0.1111111111111111,
             "#46039f"
            ],
            [
             0.2222222222222222,
             "#7201a8"
            ],
            [
             0.3333333333333333,
             "#9c179e"
            ],
            [
             0.4444444444444444,
             "#bd3786"
            ],
            [
             0.5555555555555556,
             "#d8576b"
            ],
            [
             0.6666666666666666,
             "#ed7953"
            ],
            [
             0.7777777777777778,
             "#fb9f3a"
            ],
            [
             0.8888888888888888,
             "#fdca26"
            ],
            [
             1,
             "#f0f921"
            ]
           ],
           "sequentialminus": [
            [
             0,
             "#0d0887"
            ],
            [
             0.1111111111111111,
             "#46039f"
            ],
            [
             0.2222222222222222,
             "#7201a8"
            ],
            [
             0.3333333333333333,
             "#9c179e"
            ],
            [
             0.4444444444444444,
             "#bd3786"
            ],
            [
             0.5555555555555556,
             "#d8576b"
            ],
            [
             0.6666666666666666,
             "#ed7953"
            ],
            [
             0.7777777777777778,
             "#fb9f3a"
            ],
            [
             0.8888888888888888,
             "#fdca26"
            ],
            [
             1,
             "#f0f921"
            ]
           ]
          },
          "colorway": [
           "#636efa",
           "#EF553B",
           "#00cc96",
           "#ab63fa",
           "#FFA15A",
           "#19d3f3",
           "#FF6692",
           "#B6E880",
           "#FF97FF",
           "#FECB52"
          ],
          "font": {
           "color": "#2a3f5f"
          },
          "geo": {
           "bgcolor": "white",
           "lakecolor": "white",
           "landcolor": "#E5ECF6",
           "showlakes": true,
           "showland": true,
           "subunitcolor": "white"
          },
          "hoverlabel": {
           "align": "left"
          },
          "hovermode": "closest",
          "mapbox": {
           "style": "light"
          },
          "paper_bgcolor": "white",
          "plot_bgcolor": "#E5ECF6",
          "polar": {
           "angularaxis": {
            "gridcolor": "white",
            "linecolor": "white",
            "ticks": ""
           },
           "bgcolor": "#E5ECF6",
           "radialaxis": {
            "gridcolor": "white",
            "linecolor": "white",
            "ticks": ""
           }
          },
          "scene": {
           "xaxis": {
            "backgroundcolor": "#E5ECF6",
            "gridcolor": "white",
            "gridwidth": 2,
            "linecolor": "white",
            "showbackground": true,
            "ticks": "",
            "zerolinecolor": "white"
           },
           "yaxis": {
            "backgroundcolor": "#E5ECF6",
            "gridcolor": "white",
            "gridwidth": 2,
            "linecolor": "white",
            "showbackground": true,
            "ticks": "",
            "zerolinecolor": "white"
           },
           "zaxis": {
            "backgroundcolor": "#E5ECF6",
            "gridcolor": "white",
            "gridwidth": 2,
            "linecolor": "white",
            "showbackground": true,
            "ticks": "",
            "zerolinecolor": "white"
           }
          },
          "shapedefaults": {
           "line": {
            "color": "#2a3f5f"
           }
          },
          "ternary": {
           "aaxis": {
            "gridcolor": "white",
            "linecolor": "white",
            "ticks": ""
           },
           "baxis": {
            "gridcolor": "white",
            "linecolor": "white",
            "ticks": ""
           },
           "bgcolor": "#E5ECF6",
           "caxis": {
            "gridcolor": "white",
            "linecolor": "white",
            "ticks": ""
           }
          },
          "title": {
           "x": 0.05
          },
          "xaxis": {
           "automargin": true,
           "gridcolor": "white",
           "linecolor": "white",
           "ticks": "",
           "title": {
            "standoff": 15
           },
           "zerolinecolor": "white",
           "zerolinewidth": 2
          },
          "yaxis": {
           "automargin": true,
           "gridcolor": "white",
           "linecolor": "white",
           "ticks": "",
           "title": {
            "standoff": 15
           },
           "zerolinecolor": "white",
           "zerolinewidth": 2
          }
         }
        },
        "title": {
         "text": "Population vs. Case Density"
        },
        "xaxis": {
         "anchor": "y",
         "domain": [
          0,
          1
         ],
         "title": {
          "text": "Population"
         }
        },
        "yaxis": {
         "anchor": "x",
         "domain": [
          0,
          1
         ],
         "title": {
          "text": "Case Density"
         }
        }
       }
      }
     },
     "metadata": {},
     "output_type": "display_data"
    }
   ],
   "source": [
    "fig2 = px.scatter(x=df_current.population, y=df_current.caseDensity, \n",
    "           size=df_current.population, hover_name=df_current.index, title='Population vs. Case Density')\n",
    "\n",
    "# Change axis labels\n",
    "fig2.update_xaxes(title_text='Population')\n",
    "fig2.update_yaxes(title_text='Case Density')\n",
    "\n",
    "fig2.show()\n",
    "\n"
   ]
  },
  {
   "attachments": {},
   "cell_type": "markdown",
   "metadata": {},
   "source": [
    "# Results\n",
    "As we can see here, there is a positive correlation between the population per unit land area of a state and the number of cases. This is not surprising, as states with a higher population density are more likely to have a higher number of cases. However, it is interesting to see that there are some states with a relatively low population density that have a high number of cases."
   ]
  }
 ],
 "metadata": {
  "kernelspec": {
   "display_name": "Python 3",
   "language": "python",
   "name": "python3"
  },
  "language_info": {
   "codemirror_mode": {
    "name": "ipython",
    "version": 3
   },
   "file_extension": ".py",
   "mimetype": "text/x-python",
   "name": "python",
   "nbconvert_exporter": "python",
   "pygments_lexer": "ipython3",
   "version": "3.9.13"
  }
 },
 "nbformat": 4,
 "nbformat_minor": 0
}

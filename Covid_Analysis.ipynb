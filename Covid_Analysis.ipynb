{
 "cells": [
  {
   "cell_type": "code",
   "execution_count": null,
   "outputs": [],
   "source": [
    "import pandas as pd"
   ],
   "metadata": {
    "collapsed": false
   }
  },
  {
   "cell_type": "markdown",
   "source": [
    "# Covid 19 Analysis\n",
    "The COVID-19 pandemic has had a significant impact on the world, with millions of cases and deaths reported globally. In this analysis, we will use pandas to explore a dataset of COVID-19 cases and deaths in the United States. The dataset includes information such as the date of submission, state, total cases, confirmed cases, probable cases, new cases, total deaths, confirmed deaths, probable deaths, new deaths, and consent for cases and deaths. By analyzing this dataset, we hope to gain insights into the trends and patterns of COVID-19 cases and deaths in the US, as well as identify any factors that may be contributing to the spread of the virus.\n",
    "\n",
    "The Data was provided by Data.gov, which is a government agency devoted to releasing public information to the public.\n",
    "The link to the data set can be found here: [Data Website](https://catalog.data.gov/dataset/united-states-covid-19-cases-and-deaths-by-state-over-time)\n",
    "\n"
   ],
   "metadata": {
    "collapsed": false
   }
  },
  {
   "cell_type": "code",
   "execution_count": 4,
   "outputs": [
    {
     "data": {
      "text/plain": "      submission_date state  tot_cases  conf_cases  prob_cases  new_case  \\\n0          03/11/2021    KS     297229    241035.0     56194.0         0   \n1          12/01/2021    ND     163565    135705.0     27860.0       589   \n2          01/02/2022    AS         11         0.0         0.0         0   \n3          11/22/2021    AL     841461    620483.0    220978.0       703   \n4          05/30/2022    AK     251425         0.0         0.0         0   \n...               ...   ...        ...         ...         ...       ...   \n60055      02/09/2021    TX    2504556         0.0         0.0     13329   \n60056      11/20/2020    FL     913561         0.0         0.0      8217   \n60057      08/17/2020    NM      23500         0.0         0.0        92   \n60058      06/17/2020    MS      24223     24038.0       185.0       521   \n60059      05/07/2022    MA    1779829   1638144.0    141685.0         0   \n\n       pnew_case  tot_death  conf_death  prob_death  new_death  pnew_death  \\\n0            0.0       4851         0.0         0.0          0         0.0   \n1          220.0       1907         0.0         0.0          9         0.0   \n2            0.0          0         0.0         0.0          0         0.0   \n3          357.0      16377     12727.0      3650.0          7         3.0   \n4            0.0       1252         0.0         0.0          0         0.0   \n...          ...        ...         ...         ...        ...         ...   \n60055     2676.0      43306         0.0         0.0        207         0.0   \n60056     1677.0      19014         0.0         0.0         79         5.0   \n60057        0.0        682         0.0         0.0          4         0.0   \n60058        6.0       1191      1172.0        19.0          9         0.0   \n60059        0.0      20334     19198.0      1136.0          0         0.0   \n\n                   created_at consent_cases consent_deaths  \n0      03/12/2021 03:20:13 PM         Agree              0  \n1      12/02/2021 02:35:20 PM         Agree      Not agree  \n2      01/03/2022 03:18:16 PM             0              0  \n3      11/22/2021 12:00:00 AM         Agree          Agree  \n4      05/31/2022 01:20:20 PM             0              0  \n...                       ...           ...            ...  \n60055  02/11/2021 12:00:00 AM     Not agree      Not agree  \n60056  11/20/2020 12:00:00 AM     Not agree      Not agree  \n60057  08/19/2020 12:00:00 AM             0      Not agree  \n60058  06/19/2020 12:00:00 AM         Agree          Agree  \n60059  05/09/2022 01:14:40 PM         Agree          Agree  \n\n[60060 rows x 15 columns]",
      "text/html": "<div>\n<style scoped>\n    .dataframe tbody tr th:only-of-type {\n        vertical-align: middle;\n    }\n\n    .dataframe tbody tr th {\n        vertical-align: top;\n    }\n\n    .dataframe thead th {\n        text-align: right;\n    }\n</style>\n<table border=\"1\" class=\"dataframe\">\n  <thead>\n    <tr style=\"text-align: right;\">\n      <th></th>\n      <th>submission_date</th>\n      <th>state</th>\n      <th>tot_cases</th>\n      <th>conf_cases</th>\n      <th>prob_cases</th>\n      <th>new_case</th>\n      <th>pnew_case</th>\n      <th>tot_death</th>\n      <th>conf_death</th>\n      <th>prob_death</th>\n      <th>new_death</th>\n      <th>pnew_death</th>\n      <th>created_at</th>\n      <th>consent_cases</th>\n      <th>consent_deaths</th>\n    </tr>\n  </thead>\n  <tbody>\n    <tr>\n      <th>0</th>\n      <td>03/11/2021</td>\n      <td>KS</td>\n      <td>297229</td>\n      <td>241035.0</td>\n      <td>56194.0</td>\n      <td>0</td>\n      <td>0.0</td>\n      <td>4851</td>\n      <td>0.0</td>\n      <td>0.0</td>\n      <td>0</td>\n      <td>0.0</td>\n      <td>03/12/2021 03:20:13 PM</td>\n      <td>Agree</td>\n      <td>0</td>\n    </tr>\n    <tr>\n      <th>1</th>\n      <td>12/01/2021</td>\n      <td>ND</td>\n      <td>163565</td>\n      <td>135705.0</td>\n      <td>27860.0</td>\n      <td>589</td>\n      <td>220.0</td>\n      <td>1907</td>\n      <td>0.0</td>\n      <td>0.0</td>\n      <td>9</td>\n      <td>0.0</td>\n      <td>12/02/2021 02:35:20 PM</td>\n      <td>Agree</td>\n      <td>Not agree</td>\n    </tr>\n    <tr>\n      <th>2</th>\n      <td>01/02/2022</td>\n      <td>AS</td>\n      <td>11</td>\n      <td>0.0</td>\n      <td>0.0</td>\n      <td>0</td>\n      <td>0.0</td>\n      <td>0</td>\n      <td>0.0</td>\n      <td>0.0</td>\n      <td>0</td>\n      <td>0.0</td>\n      <td>01/03/2022 03:18:16 PM</td>\n      <td>0</td>\n      <td>0</td>\n    </tr>\n    <tr>\n      <th>3</th>\n      <td>11/22/2021</td>\n      <td>AL</td>\n      <td>841461</td>\n      <td>620483.0</td>\n      <td>220978.0</td>\n      <td>703</td>\n      <td>357.0</td>\n      <td>16377</td>\n      <td>12727.0</td>\n      <td>3650.0</td>\n      <td>7</td>\n      <td>3.0</td>\n      <td>11/22/2021 12:00:00 AM</td>\n      <td>Agree</td>\n      <td>Agree</td>\n    </tr>\n    <tr>\n      <th>4</th>\n      <td>05/30/2022</td>\n      <td>AK</td>\n      <td>251425</td>\n      <td>0.0</td>\n      <td>0.0</td>\n      <td>0</td>\n      <td>0.0</td>\n      <td>1252</td>\n      <td>0.0</td>\n      <td>0.0</td>\n      <td>0</td>\n      <td>0.0</td>\n      <td>05/31/2022 01:20:20 PM</td>\n      <td>0</td>\n      <td>0</td>\n    </tr>\n    <tr>\n      <th>...</th>\n      <td>...</td>\n      <td>...</td>\n      <td>...</td>\n      <td>...</td>\n      <td>...</td>\n      <td>...</td>\n      <td>...</td>\n      <td>...</td>\n      <td>...</td>\n      <td>...</td>\n      <td>...</td>\n      <td>...</td>\n      <td>...</td>\n      <td>...</td>\n      <td>...</td>\n    </tr>\n    <tr>\n      <th>60055</th>\n      <td>02/09/2021</td>\n      <td>TX</td>\n      <td>2504556</td>\n      <td>0.0</td>\n      <td>0.0</td>\n      <td>13329</td>\n      <td>2676.0</td>\n      <td>43306</td>\n      <td>0.0</td>\n      <td>0.0</td>\n      <td>207</td>\n      <td>0.0</td>\n      <td>02/11/2021 12:00:00 AM</td>\n      <td>Not agree</td>\n      <td>Not agree</td>\n    </tr>\n    <tr>\n      <th>60056</th>\n      <td>11/20/2020</td>\n      <td>FL</td>\n      <td>913561</td>\n      <td>0.0</td>\n      <td>0.0</td>\n      <td>8217</td>\n      <td>1677.0</td>\n      <td>19014</td>\n      <td>0.0</td>\n      <td>0.0</td>\n      <td>79</td>\n      <td>5.0</td>\n      <td>11/20/2020 12:00:00 AM</td>\n      <td>Not agree</td>\n      <td>Not agree</td>\n    </tr>\n    <tr>\n      <th>60057</th>\n      <td>08/17/2020</td>\n      <td>NM</td>\n      <td>23500</td>\n      <td>0.0</td>\n      <td>0.0</td>\n      <td>92</td>\n      <td>0.0</td>\n      <td>682</td>\n      <td>0.0</td>\n      <td>0.0</td>\n      <td>4</td>\n      <td>0.0</td>\n      <td>08/19/2020 12:00:00 AM</td>\n      <td>0</td>\n      <td>Not agree</td>\n    </tr>\n    <tr>\n      <th>60058</th>\n      <td>06/17/2020</td>\n      <td>MS</td>\n      <td>24223</td>\n      <td>24038.0</td>\n      <td>185.0</td>\n      <td>521</td>\n      <td>6.0</td>\n      <td>1191</td>\n      <td>1172.0</td>\n      <td>19.0</td>\n      <td>9</td>\n      <td>0.0</td>\n      <td>06/19/2020 12:00:00 AM</td>\n      <td>Agree</td>\n      <td>Agree</td>\n    </tr>\n    <tr>\n      <th>60059</th>\n      <td>05/07/2022</td>\n      <td>MA</td>\n      <td>1779829</td>\n      <td>1638144.0</td>\n      <td>141685.0</td>\n      <td>0</td>\n      <td>0.0</td>\n      <td>20334</td>\n      <td>19198.0</td>\n      <td>1136.0</td>\n      <td>0</td>\n      <td>0.0</td>\n      <td>05/09/2022 01:14:40 PM</td>\n      <td>Agree</td>\n      <td>Agree</td>\n    </tr>\n  </tbody>\n</table>\n<p>60060 rows × 15 columns</p>\n</div>"
     },
     "execution_count": 4,
     "metadata": {},
     "output_type": "execute_result"
    }
   ],
   "source": [
    "covid_df = pd.read_csv('USACovid.csv')\n",
    "covid_df"
   ],
   "metadata": {
    "collapsed": false
   }
  },
  {
   "cell_type": "markdown",
   "source": [
    "# Data Cleaning\n",
    "In order to ensure the data provided is accurate, all NaN occurences as been replaced with 0.\n",
    "The replacement of NaN with zero will hurt the data representation, so for the further calculations, if the column is zero, it will be omitted from the evaluation.\n",
    "\n",
    "# Visuals\n",
    "In order to represent the data in a more friendly manner, the tables will remain presorted in ascending order"
   ],
   "metadata": {
    "collapsed": false
   }
  },
  {
   "cell_type": "code",
   "execution_count": 15,
   "outputs": [
    {
     "data": {
      "text/plain": "      submission_date state  tot_cases  conf_cases  prob_cases  new_case  \\\n12774      01/01/2021    FL    1327296         0.0         0.0      9697   \n19276      01/01/2021    IL     963389    963389.0         0.0         0   \n58583      01/01/2021    UT     279722    279722.0         0.0      3110   \n16101      01/01/2021    WI     522523    483007.0     39516.0      2085   \n17857      01/01/2021    ID     141077    116717.0     24360.0         0   \n...               ...   ...        ...         ...         ...       ...   \n28664      12/31/2021    ME     154173    112408.0     41765.0      1060   \n29706      12/31/2021    WI    1120669    994535.0    126134.0      8010   \n23625      12/31/2021    DC      94286         0.0         0.0         0   \n58567      12/31/2021    OH    2016095   1589233.0    426862.0     20598   \n46472      12/31/2021    SD     179204         0.0         0.0         0   \n\n       pnew_case  tot_death  conf_death  prob_death  new_death  pnew_death  \\\n12774     1580.0      23444         0.0         0.0        155        12.0   \n19276        0.0      18173     16647.0      1526.0        195        38.0   \n58583        0.0       1278      1252.0        26.0          9         1.0   \n16101      180.0       5254      4869.0       385.0         12         2.0   \n17857        0.0       1436      1269.0       167.0          0         0.0   \n...          ...        ...         ...         ...        ...         ...   \n28664      144.0       1531      1406.0       125.0          0         0.0   \n29706     1018.0      11173     10063.0      1110.0         22         3.0   \n23625        0.0       1211         0.0         0.0          0         0.0   \n58567     5021.0      29447     29447.0         0.0        667         0.0   \n46472        0.0       2486      2108.0       378.0          0         0.0   \n\n                   created_at consent_cases consent_deaths  \n12774  01/01/2021 12:00:00 AM     Not agree      Not agree  \n19276  01/02/2021 02:50:51 PM         Agree          Agree  \n58583  01/02/2021 02:50:51 PM         Agree          Agree  \n16101  01/02/2021 02:50:51 PM         Agree          Agree  \n17857  01/02/2021 02:50:51 PM         Agree          Agree  \n...                       ...           ...            ...  \n28664  01/02/2022 12:00:00 AM         Agree          Agree  \n29706  01/01/2022 02:12:51 PM         Agree          Agree  \n23625  01/01/2022 02:12:51 PM             0              0  \n58567  01/01/2022 02:12:51 PM         Agree          Agree  \n46472  01/01/2022 02:12:51 PM             0          Agree  \n\n[60060 rows x 15 columns]",
      "text/html": "<div>\n<style scoped>\n    .dataframe tbody tr th:only-of-type {\n        vertical-align: middle;\n    }\n\n    .dataframe tbody tr th {\n        vertical-align: top;\n    }\n\n    .dataframe thead th {\n        text-align: right;\n    }\n</style>\n<table border=\"1\" class=\"dataframe\">\n  <thead>\n    <tr style=\"text-align: right;\">\n      <th></th>\n      <th>submission_date</th>\n      <th>state</th>\n      <th>tot_cases</th>\n      <th>conf_cases</th>\n      <th>prob_cases</th>\n      <th>new_case</th>\n      <th>pnew_case</th>\n      <th>tot_death</th>\n      <th>conf_death</th>\n      <th>prob_death</th>\n      <th>new_death</th>\n      <th>pnew_death</th>\n      <th>created_at</th>\n      <th>consent_cases</th>\n      <th>consent_deaths</th>\n    </tr>\n  </thead>\n  <tbody>\n    <tr>\n      <th>12774</th>\n      <td>01/01/2021</td>\n      <td>FL</td>\n      <td>1327296</td>\n      <td>0.0</td>\n      <td>0.0</td>\n      <td>9697</td>\n      <td>1580.0</td>\n      <td>23444</td>\n      <td>0.0</td>\n      <td>0.0</td>\n      <td>155</td>\n      <td>12.0</td>\n      <td>01/01/2021 12:00:00 AM</td>\n      <td>Not agree</td>\n      <td>Not agree</td>\n    </tr>\n    <tr>\n      <th>19276</th>\n      <td>01/01/2021</td>\n      <td>IL</td>\n      <td>963389</td>\n      <td>963389.0</td>\n      <td>0.0</td>\n      <td>0</td>\n      <td>0.0</td>\n      <td>18173</td>\n      <td>16647.0</td>\n      <td>1526.0</td>\n      <td>195</td>\n      <td>38.0</td>\n      <td>01/02/2021 02:50:51 PM</td>\n      <td>Agree</td>\n      <td>Agree</td>\n    </tr>\n    <tr>\n      <th>58583</th>\n      <td>01/01/2021</td>\n      <td>UT</td>\n      <td>279722</td>\n      <td>279722.0</td>\n      <td>0.0</td>\n      <td>3110</td>\n      <td>0.0</td>\n      <td>1278</td>\n      <td>1252.0</td>\n      <td>26.0</td>\n      <td>9</td>\n      <td>1.0</td>\n      <td>01/02/2021 02:50:51 PM</td>\n      <td>Agree</td>\n      <td>Agree</td>\n    </tr>\n    <tr>\n      <th>16101</th>\n      <td>01/01/2021</td>\n      <td>WI</td>\n      <td>522523</td>\n      <td>483007.0</td>\n      <td>39516.0</td>\n      <td>2085</td>\n      <td>180.0</td>\n      <td>5254</td>\n      <td>4869.0</td>\n      <td>385.0</td>\n      <td>12</td>\n      <td>2.0</td>\n      <td>01/02/2021 02:50:51 PM</td>\n      <td>Agree</td>\n      <td>Agree</td>\n    </tr>\n    <tr>\n      <th>17857</th>\n      <td>01/01/2021</td>\n      <td>ID</td>\n      <td>141077</td>\n      <td>116717.0</td>\n      <td>24360.0</td>\n      <td>0</td>\n      <td>0.0</td>\n      <td>1436</td>\n      <td>1269.0</td>\n      <td>167.0</td>\n      <td>0</td>\n      <td>0.0</td>\n      <td>01/02/2021 02:50:51 PM</td>\n      <td>Agree</td>\n      <td>Agree</td>\n    </tr>\n    <tr>\n      <th>...</th>\n      <td>...</td>\n      <td>...</td>\n      <td>...</td>\n      <td>...</td>\n      <td>...</td>\n      <td>...</td>\n      <td>...</td>\n      <td>...</td>\n      <td>...</td>\n      <td>...</td>\n      <td>...</td>\n      <td>...</td>\n      <td>...</td>\n      <td>...</td>\n      <td>...</td>\n    </tr>\n    <tr>\n      <th>28664</th>\n      <td>12/31/2021</td>\n      <td>ME</td>\n      <td>154173</td>\n      <td>112408.0</td>\n      <td>41765.0</td>\n      <td>1060</td>\n      <td>144.0</td>\n      <td>1531</td>\n      <td>1406.0</td>\n      <td>125.0</td>\n      <td>0</td>\n      <td>0.0</td>\n      <td>01/02/2022 12:00:00 AM</td>\n      <td>Agree</td>\n      <td>Agree</td>\n    </tr>\n    <tr>\n      <th>29706</th>\n      <td>12/31/2021</td>\n      <td>WI</td>\n      <td>1120669</td>\n      <td>994535.0</td>\n      <td>126134.0</td>\n      <td>8010</td>\n      <td>1018.0</td>\n      <td>11173</td>\n      <td>10063.0</td>\n      <td>1110.0</td>\n      <td>22</td>\n      <td>3.0</td>\n      <td>01/01/2022 02:12:51 PM</td>\n      <td>Agree</td>\n      <td>Agree</td>\n    </tr>\n    <tr>\n      <th>23625</th>\n      <td>12/31/2021</td>\n      <td>DC</td>\n      <td>94286</td>\n      <td>0.0</td>\n      <td>0.0</td>\n      <td>0</td>\n      <td>0.0</td>\n      <td>1211</td>\n      <td>0.0</td>\n      <td>0.0</td>\n      <td>0</td>\n      <td>0.0</td>\n      <td>01/01/2022 02:12:51 PM</td>\n      <td>0</td>\n      <td>0</td>\n    </tr>\n    <tr>\n      <th>58567</th>\n      <td>12/31/2021</td>\n      <td>OH</td>\n      <td>2016095</td>\n      <td>1589233.0</td>\n      <td>426862.0</td>\n      <td>20598</td>\n      <td>5021.0</td>\n      <td>29447</td>\n      <td>29447.0</td>\n      <td>0.0</td>\n      <td>667</td>\n      <td>0.0</td>\n      <td>01/01/2022 02:12:51 PM</td>\n      <td>Agree</td>\n      <td>Agree</td>\n    </tr>\n    <tr>\n      <th>46472</th>\n      <td>12/31/2021</td>\n      <td>SD</td>\n      <td>179204</td>\n      <td>0.0</td>\n      <td>0.0</td>\n      <td>0</td>\n      <td>0.0</td>\n      <td>2486</td>\n      <td>2108.0</td>\n      <td>378.0</td>\n      <td>0</td>\n      <td>0.0</td>\n      <td>01/01/2022 02:12:51 PM</td>\n      <td>0</td>\n      <td>Agree</td>\n    </tr>\n  </tbody>\n</table>\n<p>60060 rows × 15 columns</p>\n</div>"
     },
     "execution_count": 15,
     "metadata": {},
     "output_type": "execute_result"
    }
   ],
   "source": [
    "covid_df = covid_df.fillna(0)\n",
    "covid_df = covid_df.sort_values('submission_date')\n",
    "covid_df"
   ],
   "metadata": {
    "collapsed": false
   }
  },
  {
   "cell_type": "code",
   "execution_count": null,
   "outputs": [],
   "source": [],
   "metadata": {
    "collapsed": false
   }
  }
 ],
 "metadata": {
  "kernelspec": {
   "display_name": "Python 3",
   "language": "python",
   "name": "python3"
  },
  "language_info": {
   "codemirror_mode": {
    "name": "ipython",
    "version": 2
   },
   "file_extension": ".py",
   "mimetype": "text/x-python",
   "name": "python",
   "nbconvert_exporter": "python",
   "pygments_lexer": "ipython2",
   "version": "2.7.6"
  }
 },
 "nbformat": 4,
 "nbformat_minor": 0
}
